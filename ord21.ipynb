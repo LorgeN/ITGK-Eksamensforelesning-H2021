{
 "cells": [
  {
   "cell_type": "markdown",
   "metadata": {},
   "source": [
    "# Eksamen 2021 Programmering\n",
    "\n",
    "**Merk at teori og kodeforståelse ikke er med her.**\n",
    "\n",
    "Hele eksamen ligger på BlackBoard. Her ligger også funksjoner som var vedlagt oppgaven, som kan være nyttig å bruke mens du arbeider med oppgavene under.\n",
    "\n",
    "**Flere av oppgavene ber om å fylle inn hull eller velge riktig alternativ, behandle disse som kodeoppgaver.**"
   ]
  },
  {
   "cell_type": "markdown",
   "metadata": {},
   "source": [
    "# Oppgave 2 (40%)\n",
    "Oppgave 2 består av 9 ulike oppgaver (2a - 2i) med programmering og dra-og-slipp /\n",
    "innfylling i programkode. Til sammen utgjør disse oppgavene 40% av karakteren. På\n",
    "oppgaver hvor du kan teste om koden din virker, vil du normalt score mer poeng ved å ha et\n",
    "program som passerer iallfall noen av testene, enn ved å ha et program som prøver å få til\n",
    "alt, men får kjørefeil og ikke passerer noen av testene. Det er likevel bedre å levere noe\n",
    "kode selv om den ikke virker, enn å levere blankt, da sensor med et levert svar kan ha\n",
    "mulighet til å se over koden manuelt og vurdere om det kan gis litt poeng for delvis riktig\n",
    "tankegang.\n",
    "# 2a - Max Manus (3%)\n",
    "Pythons standardfunksjon max() returnerer den største av verdiene i en sekvens. For\n",
    "eksempel vil max(\"manus\") gi verdien \"u\" fordi u er lengst ut i alfabetet av bokstavene i\n",
    "manus. Tilsvarende vil min(\"manus\") gi verdien \"a\". Skriv en funksjon alfa(streng, tall) som\n",
    "får inn en tekststreng pluss et tall. Hvis tallet er 0 skal funksjonen returnere det minste tegnet\n",
    "i strengen (dvs. fremst i alfabetet), hvis tallet er noe annet enn 0, skal den returnere det\n",
    "største tegnet i strengen.\n"
   ]
  },
  {
   "cell_type": "code",
   "execution_count": null,
   "metadata": {},
   "outputs": [],
   "source": []
  },
  {
   "cell_type": "markdown",
   "metadata": {},
   "source": [
    "# 2b - Byer i Belgia (3%)\n",
    "Gitt ei ordbok kalt geografi som har land som nøkkelverdi, og for hver nøkkel ei liste av byer i\n",
    "dette landet. Et eksempel på mulig innhold er: geografi = {'Irland': ['Dublin', 'Cork'], 'Polen':\n",
    "['Lodz', 'Krakow', 'Gdansk'], 'Belgia': ['Bryssel', 'Gent', 'Liege', 'Namur'] } Funksjonen\n",
    "ant_land(geografi) skal returnere antallet land som fins i ordboka. Med eksemplet over skal\n",
    "dette kallet returnere tallet 3 fordi det fins info om tre land i ordboka. Hint: funksjonen len()\n",
    "gir antall element i f.eks. strenger, lister, tupler, mengder, ordbøker. NB: Funksjonen din skal\n",
    "også virke for ordbøker med annet antall land enn eksemplet gitt her, men strukturen kan\n",
    "alltid antas å være den samme (land som nøkkelverdi, så liste med byer for hvert land)."
   ]
  },
  {
   "cell_type": "code",
   "execution_count": null,
   "metadata": {},
   "outputs": [],
   "source": []
  },
  {
   "cell_type": "markdown",
   "metadata": {},
   "source": [
    "# 2c - Sjekk tall (4%)\n",
    "Skriv en funksjon sjekk(tall) som får inn et tall. Hvis tallet er et oddetall, skal funksjonen\n",
    "returnere strengen \"odde\", hvis partall returnere strengen \"par\", og hvis tallet har en\n",
    "desimaldel > 0, skal funksjonen returnere strengen \"des\". (Dvs. f.eks., 3 -> \"odde\", 3.0 ->\n",
    "\"odde\", 3.1 -> \"des\", 4.0 -> \"par\", 4.2 -> \"des\") NB: Funksjonen skal returnere tekststrengen,\n",
    "IKKE printe den.\n"
   ]
  },
  {
   "cell_type": "code",
   "execution_count": null,
   "metadata": {},
   "outputs": [],
   "source": []
  },
  {
   "cell_type": "markdown",
   "metadata": {},
   "source": [
    "# 2d - Sum av lengder (5%)\n",
    "Funksjonen sum_len(L) får inn ei liste L som inneholder heltall, og skal returnere summen av\n",
    "lengdene til tallene i lista. F.eks. sum_len ( [34, 502, 4] ) skal returnere 6 fordi det første\n",
    "tallet er 2 siffer langt, det andre 3 siffer langt, og det tredje 1 siffer, og 3+2+1 er 6. \n",
    "\n",
    "Trekk\n",
    "kodefragmenter til riktig sted så funksjonen virker som den skal. (NB: Det fins flere\n",
    "kodefragment enn hull i koden, dvs. en del av fragmentene skal ikke brukes)\n"
   ]
  },
  {
   "cell_type": "code",
   "execution_count": null,
   "metadata": {},
   "outputs": [],
   "source": []
  },
  {
   "cell_type": "markdown",
   "metadata": {},
   "source": [
    "# 2e - Største tverrsum (5%)\n",
    "Tverrsummen til et tall er summen av sifrene, f.eks. tverrsummen til 125 er 1+2+5, altså 8.\n",
    "Anta at det allerede fins en funksjon tverrsum(tall), du trenger ikke lage denne. Vi skal nå\n",
    "lage funksjonen max_tverrsum(L), som får inn som parameter ei liste med heltall.\n",
    "Funksjonen skal returnere den største tverrsummen blant tallene i lista, samt\n",
    "indeksposisjonen denne ble funnet på. For eksempel, max_tverrsum ( [ 8, 12, 77, 1111] )\n",
    "skal returnere tuppelet (14, 2) fordi den største tverrsummen er 14, og denne får vi for tallet\n",
    "77 som står på indeks 2 i lista. Lista som kommer inn som parameter antas å alltid inneholde\n",
    "minst ett tall, dvs. er aldri tom. \n",
    "\n",
    "\n",
    "Oppgave: Velg riktige alternativ nedenfor, slik at koden for\n",
    "max_tverrsum() vil funke. Det blir IKKE gitt minuspoeng for feilsvar, så du BØR fylle inn alle\n",
    "hull heller enn å sette noe blankt."
   ]
  },
  {
   "cell_type": "code",
   "execution_count": null,
   "metadata": {},
   "outputs": [],
   "source": []
  },
  {
   "cell_type": "markdown",
   "metadata": {},
   "source": [
    "# 2f - Ordbok fra ordbok (5%)\n",
    "Gitt ei ordbok tallbok hvor nøklene er strenger som er forkortelser for språk (norsk, svensk,\n",
    "...), og hvor verdien på hver nøkkel er ei liste med ord for tallene 0-6 på dette språket. tallbok\n",
    "= {'NO': ['null', 'en', 'to', 'tre', 'fire', 'fem', 'seks'], 'SE': ['noll', 'ett', 'två', 'tre', 'fyra', 'fem', 'sex'],\n",
    "'DK': ['null', 'en', 'to', 'tre', 'fire', 'fem', 'seks'], 'IT': ['zero', 'uno', 'due', 'tre', 'cuattro', 'cinque',\n",
    "'sei'], 'ES': ['cero', 'uno', 'dos', 'tres', 'cuatro', 'cinco', 'seis'], 'PT': ['zero' 'um', 'dois', 'tres',\n",
    "'cuatro', 'cinco', 'seis'] } Vi skal lage en funksjon same_word(num, tallbok) som får inn som\n",
    "parameter et heltall (0-6) og ei ordbok med struktur som vist over. Den skal returnere ei ny\n",
    "ordbok hvor nøklene er ord for dette tallet, og hvor verdifeltet er lista over alle språk som har\n",
    "dette ordet for tallet - såframt mer enn ett språk har samme ord. Eksempel på resultat ved\n",
    "kjøring: same_word(3, tallbok) returnerer {'tre': ['NO', 'SE', 'DK', 'IT'], 'tres': ['ES', 'PT']}\n",
    "same_word(6, tallbok) returnerer {'seks': ['NO', 'DK'], 'seis': ['ES', 'PT']} - merk at her er\n",
    "nøklene SE og IT ikke med i returnert ordbok fordi hver av disse var alene om sin skrivemåte\n",
    "for tallet 6.\n",
    "\n",
    "Trekk kodefragmentene til riktig sted så funksjonen virker som den skal. (3 av fragmentene\n",
    "skal ikke brukes). Det blir ikke gitt minuspoeng for feilplasserte kodefragment, så du bør fylle\n",
    "inn alle hull heller enn å sette noe blankt.\n"
   ]
  },
  {
   "cell_type": "code",
   "execution_count": null,
   "metadata": {},
   "outputs": [],
   "source": []
  },
  {
   "cell_type": "markdown",
   "metadata": {},
   "source": [
    "# 2g - Fjerne serieduplikat (5%)\n",
    "Vi ønsker en funksjon fjern_dup(liste) som får inn ei liste med tall som parameter, og som\n",
    "skal fjerne serieduplikater i lista, dvs. tilfeller hvor samme tall kommer flere ganger rett etter\n",
    "hverandre. Som man kan se av gitte test cases: 1. Her kommer ingen tall flere ganger på\n",
    "rad. Dermed endres lista ikke. 2. Tallet 4 kommer to ganger på rad, derfor fjernes en av\n",
    "disse firerne 3. Lista har flere på rad både av 2'ere, 3'ere, 1'ere, i alle disse tilfellene fjernes\n",
    "tall fra lista slik at det ikke kommer identiske tall på rad NB: Funksjonen skal gjøre\n",
    "muterende endring i lista som kommer inn som parameter, den trenger derfor ikke returnere\n",
    "noe. Den skal heller ikke printe noe.\n"
   ]
  },
  {
   "cell_type": "code",
   "execution_count": null,
   "metadata": {},
   "outputs": [],
   "source": []
  },
  {
   "cell_type": "markdown",
   "metadata": {},
   "source": [
    "# 2h - Liste fra streng (5%)\n",
    "Funksjonen list_str(s) skal få inn en streng s som parameter. Den skal returnere ei liste med\n",
    "bokstaver, nærmere bestemt de bokstavene i strengen s som har tegnet 'f' 1 tegn foran seg,\n",
    "og tegnet 'f' 6 tegn bak seg. Eksempel: list_str('abcdefX') skal returnere ei tom liste [ ].\n",
    "Bokstaven X har riktig nok 'f' 1 tegn foran seg, men har ikke 'f' 6 tegn bak seg.\n",
    "list_str('fedcabYabcdef') skal returnere ei tom liste [ ]. Bokstaven Y har riktig nok 'f' 6 tegn\n",
    "bak seg, men bokstaven 'f' står ikke 1 tegn foran Y. list_str('xyzzy') skal returnere ei tom liste\n",
    "[ ]. Ingen av bokstavene i strengen har påkrevd tegn foran eller bak.\n",
    "list_str('abcdefSabcdefOabcdefSabcdef') skal returnere ['S', 'O', 'S'] fordi akkurat disse tre\n",
    "tegnene i strengen har 'f' 1 tegn foran seg og 'f' 6 tegn bak seg."
   ]
  },
  {
   "cell_type": "code",
   "execution_count": null,
   "metadata": {},
   "outputs": [],
   "source": []
  },
  {
   "cell_type": "markdown",
   "metadata": {},
   "source": [
    "# 2i - Sjekk to og to (5%)\n",
    "Funksjonen sjekk_to(streng) får inn en streng som alltid er 6 tegn lang, og hvor hvert tegn er\n",
    "et siffer, f.eks. '051033'. Følgende regler gjelder for disse sifrene: Tallet som dannes av de to\n",
    "første sifrene, kan maks være 27. Tallet som dannes av de to midterste sifrene, kan maks\n",
    "være 16. Tallet som dannes av de to bakerste sifrene, kan maks være 52. Funksjonen skal\n",
    "returnere: 1 hvis strengen er ok, jfr. test #1 - alle verdier er innenfor grensene. 2 hvis to\n",
    "første siffer gir for høyt tall, jfr. test #2 med 42 mens maks tillatt var 27. 3 hvis to midterste\n",
    "siffer gir for høyt tall, jfr. test #3 med 20 mens maks tillatt var 16. 5 hvis to bakerste siffer gir\n",
    "for høyt tall, jfr. test #4 med 99 mens maks tillatt var 52. 6 hvis både fremste to og midterste\n",
    "to er for høye, jfr. test #5. 10 hvis både fremste to og bakerste to er for høye, jfr. test #6. 30\n",
    "hvis både fremste, midterste, bakerste er for høye, jfr. test #7. Merk: Funksjonen må fungere\n",
    "generelt for strenger med 6 siffer, ikke bare for de strengene som er gitt som test case her."
   ]
  },
  {
   "cell_type": "code",
   "execution_count": null,
   "metadata": {},
   "outputs": [],
   "source": []
  },
  {
   "cell_type": "markdown",
   "metadata": {},
   "source": [
    "# Oppgave 3 (35%)\n",
    "Oppgave 3 består av et sett med deloppgaver innenfor samme tema. I enkelte oppgaver vil\n",
    "man kunne bruke funksjoner skrevet i tidligere oppgaver for å hjelpe seg. Man kan velge å\n",
    "kalle disse funksjonene selv om man ikke har klart å løse dem - det er bare å 'late som' i\n",
    "besvarelsen. Du skal nå lage et program for en dagligvarebutikk. Programmet holder styr på\n",
    "lager, håndterer oppdatering av lager og salg. Dataen lagres i fil når butikken stenger, og\n",
    "leses fra fil når butikken åpnes. Butikken kan også generere middagsforslag til en gitt pris.\n",
    "Oppgaven baserer seg på strukturene matvarer og beholdning.\n",
    "\n",
    "'matvarer' er en todimensjonal liste med følgende struktur: [[navn, pris, rett],[navn2, pris2,\n",
    "rett2], ...]\n",
    "\n",
    "Hver innerliste inneholder en string 'navn', et heltall 'pris' og en string 'rett' for en matvare.\n",
    "matvarer = [['laks', 59, 'middag'], ['kjøttdeig', 25, 'middag'], ['ris', 15, 'middag'], ['ost', 99,\n",
    "'frokost'], ['bønner', 7, 'middag'], ['soyasaus', 33, 'middag'],['banan', 4, 'mellommåltid']]\n",
    "'beholdning' er en dictionary med følgende struktur: {navn:antall, navn2:antall2, ...}\n",
    "\n",
    "Hver nøkkel er en string 'navn', og hver verdi er et heltall 'antall' som beskriver hvor mange\n",
    "av den spesifikke varen som er på lager. Du kan anta at alle varer som finnes i beholdning\n",
    "også finnes som en vare i matvarer. Andre eventuelle antagelser må skrives i din\n",
    "besvarelse.\n",
    "\n",
    "beholdning = {'laks': 6, 'kjøttdeig': 14, 'ris': 15, 'ost': 9, 'bønner': 6, 'soyasaus': 0, 'banan': 1}\n",
    "\n",
    "Tallene i eksemplene til oppgavene forutsetter at man har fått til tidligere oppgaver.\n",
    "\n",
    "# 3.1 - finn_pris(matvarer, let_etter) (4%)\n",
    "Vi trenger å finne prisen på matvarene i butikken.\n",
    "\n",
    "Skriv funksjonen finn_pris(matvarer, let_etter): Du skal finne prisen til en bestemt matvare,\n",
    "gitt av parameteret 'let_etter' i den todimensjonale listen 'matvarer'. Hvis let_etter ikke finnes\n",
    "i matvarer skal funksjonen returnere 0, ellers skal prisen på matvaren returneres.\n",
    "\n",
    "Parametre: 'matvarer' er den todimensjonale listen som beskrevet i starten av oppgave 3.\n",
    "'let_etter' er en streng som inneholder matvaren som det letes etter.\n",
    "\n",
    "Eksempel: >>> print(finn_pris(matvarer, 'ost')) 99 >>> print(finn_pris(matvarer, 'finnesikke'))\n",
    "0\n"
   ]
  },
  {
   "cell_type": "code",
   "execution_count": null,
   "metadata": {},
   "outputs": [],
   "source": []
  },
  {
   "cell_type": "markdown",
   "metadata": {},
   "source": [
    "# 3.2 - oppdater_matvare(beholdning, matvare, antall) (4%)\n",
    "Butikken har behov for å kunne oppdatere en og en vare i beholdningen.\n",
    "\n",
    "Skriv funksjonen oppdater_matvare(beholdning, matvare, antall): hvis 'antall' har en negativ\n",
    "verdi skal beholdningen gå med med tilsvarende mengde. du kan anta at alle matvarer man\n",
    "får inn som parametre allerede eksisterer. du kan anta at du ikke får en oppdatering som gir\n",
    "en negativ beholdning av en matvare. returner den oppdaterte beholdningen.\n",
    "\n",
    "Parametre: dictionaryen 'beholdning' som beskrevet i starten av oppgave 3. en streng\n",
    "'matvare'. heltallet 'antall'.\n",
    "\n",
    "Eksempel på kjøring: >>> print(beholdning['kjøttdeig']) 14 >>>\n",
    "oppdater_matvare(beholdning, 'kjøttdeig', -1) >>> print(beholdning['kjøttdeig']) 13"
   ]
  },
  {
   "cell_type": "code",
   "execution_count": null,
   "metadata": {},
   "outputs": [],
   "source": []
  },
  {
   "cell_type": "markdown",
   "metadata": {},
   "source": [
    "# 3.3 - oppdater_beholdning(beholdning, endringer) (4%)\n",
    "Butikken får påfyll av ulike matvarer når det skjer en leveranse. Da må beholdningen\n",
    "oppdateres. På samme måte må beholdningen reduseres når noen kjøper noe i butikken.\n",
    "\n",
    "Skriv funksjonen oppdater_beholdning(beholdning, endringer): legg til/trekk fra endringer til\n",
    "beholdningen. returner den oppdaterte beholdningen.\n",
    "\n",
    "Parametre: 'beholdning' er som tidligere. 'endringer' er en todimensjonal liste med matvarer\n",
    "og antall på format: [[navn,antall], [navn2,antall2], ...]\n",
    "\n",
    "Eksempel: >>> print(beholdning) {'laks': 6, 'kjøttdeig': 13, 'ris': 15, 'ost': 9, 'bønner': 6,\n",
    "'soyasaus': 0, 'banan': 1} >>> beholdning = oppdater_beholdning(beholdning, [['ost', 2],\n",
    "['kjøttdeig', -4], ['bønner', -1]]) >>> print(beholdning) {'laks': 6, 'kjøttdeig': 9, 'ris': 15, 'ost': 11,\n",
    "'bønner': 5, 'soyasaus': 0, 'banan': 1}\n"
   ]
  },
  {
   "cell_type": "code",
   "execution_count": null,
   "metadata": {},
   "outputs": [],
   "source": []
  },
  {
   "cell_type": "markdown",
   "metadata": {},
   "source": [
    "# 3.4 - vis_priser(beholdning, matvarer, tekst) (5%)\n",
    "Butikken trenger å vite hvilke varer som er i sortimentet!\n",
    "\n",
    "Skriv funksjonen vis_priser(beholdning, matvarer, tekst): finn hvilke matvarer som er i 'tekst',\n",
    "fjern unødvendige tegn og ord som ikke er matvarer. returner en liste av tupler der hvert\n",
    "tuppel inneholder navn på vare og pris på den varen. du kan anta at 'tekst' er i lower-case.\n",
    "\n",
    "Parametre: 'beholdning' og 'matvarer' er lik tidligere. 'tekst' er en string med matvarer og\n",
    "eventuelle andre ord, der ordene er skilt ved mellomrom. Teksten kan inneholde '.' og ','.\n",
    "F.eks: 'bønner og kjøttdeig, med banan.'\n",
    "\n",
    "Eksempel: >>> print(vis_priser(beholdning, matvarer, 'bønner med soyasaus, og ris'))\n",
    "[('bønner', 7), ('soyasaus', 33), ('ris', 15)]\n"
   ]
  },
  {
   "cell_type": "code",
   "execution_count": null,
   "metadata": {},
   "outputs": [],
   "source": []
  },
  {
   "cell_type": "markdown",
   "metadata": {},
   "source": [
    "# 3.5 - salg(matvarer, beholdning, handleliste) (5%)\n",
    "Butikken er opptatt av glade kunder! Derfor ønsker butikken å gi kundene mulighet til å\n",
    "levere en handleliste. Dette er en liste med alle matvarene kunden ønsker. Hvis kunden\n",
    "ønsker å handle flere av samme vare så vil matvaren gjentas (som ['ost', 'ost', 'banan']).\n",
    "Butikken skal selge matvarer helt til det er tomt for dem. Hvis kunden ønsker to ost, men det\n",
    "finnes kun en, så skal én ost selges.\n",
    "\n",
    "Funksjonen salg(matvarer, beholdning, handleliste) skal gjøre følgende ting: Skrive ut alle\n",
    "matvarer som selges, og hvilken pris de selges for. Oppdatere beholdning for å reflektere\n",
    "salget som er gjennomført. Skrive ut sluttsummen for alle matvarer som ble solgt. Returner\n",
    "et tuppel bestående av alle matvarer som ble solgt.\n",
    "\n",
    "Parametre: 'matvarer' og 'beholdning' er som tidligere. 'handleliste' er en liste med matvarer.\n",
    "Du kan anta at alle matvarene finnes i både 'matvarer' og 'beholdning'.\n",
    "\n",
    "Eksempel: >>> print(salg(matvarer, beholdning,['ost','banan','banan', 'kjøttdeig', 'kjøttdeig']))\n",
    "ost 99 banan 4 kjøttdeig 25 kjøttdeig 25 Totalsum: 153 ('ost', 'banan', 'kjøttdeig', 'kjøttdeig')"
   ]
  },
  {
   "cell_type": "code",
   "execution_count": null,
   "metadata": {},
   "outputs": [],
   "source": []
  },
  {
   "cell_type": "markdown",
   "metadata": {},
   "source": [
    "# 3.6 - skriv_beholdning(beholdning), les_beholdning() (5%)\n",
    "Når butikken stenger må varebeholdningen lagres til fil, og så må varebeholdningen leses\n",
    "inn fra fil igjen når butikken åpner. Skriv funksjonene skriv_beholdning(beholdning) og\n",
    "les_beholdning().\n",
    "\n",
    "skriv_beholdning(beholdning) skal: lagre innholdet i dictionaryen 'beholdning' på et\n",
    "passende format. hvis filen finnes fra før, skal denne skrives over.\n",
    "\n",
    "Parametre skriv_beholdning(beholdning): 'beholdning' er som tidligere. les_beholdning()\n",
    "skal: lese den samme filen, opprette den samme dictionaryen, og returnere den.\n",
    "\n",
    "Du velger selv format og struktur på filen, men det kan jo være enkelt å ta utgangspunkt i\n",
    "den samme folderen som programmet kjøres fra.\n",
    "\n",
    "NB! Husk at eventuelle moduler må importeres. Filen trenger ikke være lesbar for\n",
    "mennesker, det du måles på er at det fungerer."
   ]
  },
  {
   "cell_type": "code",
   "execution_count": null,
   "metadata": {},
   "outputs": [],
   "source": []
  },
  {
   "cell_type": "markdown",
   "metadata": {},
   "source": [
    "# 3.7 - tilfeldig_middag(matvarer, budsjett) (8%)\n",
    "Noen ganger trenger kunder litt inspirasjon for å lage seg en middag. Lag en funksjon\n",
    "tilfeldig_middag(matvarer, budsjett) som skal generere en tilfeldig middag med forskjellige\n",
    "matvarer av retten 'middag' innenfor gitt budsjett. Funksjonen trenger ikke ta hensyn til om\n",
    "matvaren er på lager, den skal kun gi inspirasjon til middagsretter.\n",
    "\n",
    "Parametre: 'matvarer' er som tidligere. 'budsjett' er et heltall.\n",
    "\n",
    "tilfeldig_middag(matvarer, budsjett) skal: velge tilfeldige matvarer i kategorien 'middag' som\n",
    "man har nok penger til å kjøpe, duplikat av matvarer er ikke lov. holde styr på hvor mye de\n",
    "tilfeldige varene koster. returnere en liste med tilfeldige middagsvarer som koster tilsammen\n",
    "maks 'budsjett' når det ikke lenger finnes varer som kan legges til. løsningen skal\n",
    "implementeres ved hjelp av en REKURSIV FUNKSJON på en vesentlig måte, enten\n",
    "funksjonen tilfeldig_middag selv, eller en hjelpefunksjon som gjør hoveddelen av jobben.\n",
    "Hvis ikke, så vil det maks gi halv poengsum for deloppgaven.\n",
    "\n",
    "Eksempel på kjøring: >>> tilfeldig_middag(matvarer, 70) ['laks', 'bønner'] >>>\n",
    "tilfeldig_middag(matvarer, 50) ['ris', 'bønner', 'kjøttdeig'] >>> tilfeldig_middag(matvarer, 20)\n",
    "['ris']"
   ]
  },
  {
   "cell_type": "code",
   "execution_count": null,
   "metadata": {},
   "outputs": [],
   "source": []
  }
 ],
 "metadata": {
  "kernelspec": {
   "display_name": "Python 3.8.6rc1 64-bit (system)",
   "language": "python",
   "name": "python3"
  },
  "language_info": {
   "name": "python",
   "version": "3.8.6"
  },
  "orig_nbformat": 4,
  "vscode": {
   "interpreter": {
    "hash": "a1d88f1d6af7274392319340ad589157e5034eb25853bd7ff5b502ff0dd39369"
   }
  }
 },
 "nbformat": 4,
 "nbformat_minor": 2
}

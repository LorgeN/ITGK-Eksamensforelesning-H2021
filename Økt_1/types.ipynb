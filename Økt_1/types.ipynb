{
 "cells": [
  {
   "cell_type": "markdown",
   "metadata": {},
   "source": [
    "# Typer\n",
    "\n",
    "I python har vi mange typer, men vi vil fokusere på:\n",
    "- string (str) Tekst\n",
    "- Integer (int) Heltall\n",
    "- float (float) flyttall/desimaltall\n",
    "- boolean (bool) Boolsk verdi (True/False)\n",
    "\n",
    "**Dette tar vi for oss senere**\n",
    "- Funksjoner\n",
    "- List / Tuple\n",
    "- Dictionary\n",
    "- Set"
   ]
  },
  {
   "cell_type": "code",
   "execution_count": null,
   "metadata": {},
   "outputs": [],
   "source": [
    "string = \"Hei, jeg er en string. Det ser du ved fnuttene rundt meg\"\n",
    "integer = 34\n",
    "float = 3.4\n",
    "boolean = 3 > 5"
   ]
  },
  {
   "cell_type": "markdown",
   "metadata": {},
   "source": [
    "## Noen ting som er verdt å merke seg\n",
    "\n",
    "- Dersom string er tall, kan man bruke både int() og float() for å gjøre det om\n",
    "- Funksjonen input() gir alltid strenger\n",
    "- Man kan gjøre om fra float til int, og int til float, men\n",
    "- dersom man bruker int() på et flyttall, runder det alltid ned"
   ]
  },
  {
   "cell_type": "code",
   "execution_count": 1,
   "metadata": {},
   "outputs": [
    {
     "name": "stdout",
     "output_type": "stream",
     "text": [
      "<class 'str'>\n",
      "<class 'float'>\n",
      "33.0\n",
      "33\n"
     ]
    }
   ],
   "source": [
    "min_variabel = input(\"Denne vil få en strengtype: \")\n",
    "print(type(min_variabel))\n",
    "mitt_tall = float(min_variabel)\n",
    "print(type(mitt_tall))\n",
    "print(mitt_tall)\n",
    "mitt_heltall = int(mitt_tall)\n",
    "print(mitt_heltall)"
   ]
  }
 ],
 "metadata": {
  "interpreter": {
   "hash": "970ce3132f224d7747ed0f4b20681d591dc99902d3fdba431508a555c8f3dd02"
  },
  "kernelspec": {
   "display_name": "Python 3.9.1 64-bit",
   "name": "python3"
  },
  "language_info": {
   "codemirror_mode": {
    "name": "ipython",
    "version": 3
   },
   "file_extension": ".py",
   "mimetype": "text/x-python",
   "name": "python",
   "nbconvert_exporter": "python",
   "pygments_lexer": "ipython3",
   "version": "3.9.1"
  },
  "orig_nbformat": 4
 },
 "nbformat": 4,
 "nbformat_minor": 2
}

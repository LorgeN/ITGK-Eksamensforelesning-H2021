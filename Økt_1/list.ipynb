{
 "cells": [
  {
   "cell_type": "markdown",
   "metadata": {},
   "source": [
    "# Lister\n",
    "\n",
    "Dersom man vil lagre flere verdier i samme variabel, kan man bruke liste\n",
    "Liste markeres med flate paranteser \"[ ]\""
   ]
  },
  {
   "cell_type": "code",
   "execution_count": 1,
   "metadata": {},
   "outputs": [
    {
     "name": "stdout",
     "output_type": "stream",
     "text": [
      "[2, 3, 5, 7, 11, 13]\n"
     ]
    }
   ],
   "source": [
    "min_liste = [2, 3, 5, 7, 11, 13]\n",
    "print(min_liste)"
   ]
  },
  {
   "cell_type": "markdown",
   "metadata": {},
   "source": [
    "Dersom man vil aksesseren et element i listen, bruker man index. OBS: Index starter på 0"
   ]
  },
  {
   "cell_type": "code",
   "execution_count": 2,
   "metadata": {},
   "outputs": [
    {
     "name": "stdout",
     "output_type": "stream",
     "text": [
      "2\n",
      "5\n"
     ]
    }
   ],
   "source": [
    "print(min_liste[0])\n",
    "print(min_liste[2])"
   ]
  },
  {
   "cell_type": "markdown",
   "metadata": {},
   "source": [
    "Dersom man vil aksessere det siste elementet i en liste, kan man bruke -1 (-2 vil være det nest siste, osv...)"
   ]
  },
  {
   "cell_type": "code",
   "execution_count": 3,
   "metadata": {},
   "outputs": [
    {
     "name": "stdout",
     "output_type": "stream",
     "text": [
      "13\n",
      "7\n"
     ]
    }
   ],
   "source": [
    "print(min_liste[-1])\n",
    "print(min_liste[-3])"
   ]
  },
  {
   "cell_type": "markdown",
   "metadata": {},
   "source": [
    "Grunnleggende funksjoner man kan bruke i lister:\n",
    "\n",
    "- List.append() - Legger til et elemement i slutten av lista\n",
    "- len(List) - antall elementer i lista\n",
    "- \\+  Legge sammen lister\n",
    "- \\*  gjenta lister"
   ]
  },
  {
   "cell_type": "code",
   "execution_count": 5,
   "metadata": {},
   "outputs": [
    {
     "name": "stdout",
     "output_type": "stream",
     "text": [
      "[2, 3, 5, 7, 11, 13, 17, 17]\n",
      "8\n",
      "[2, 3, 5, 7, 11, 13, 17, 17, 19]\n",
      "[2, 3, 5, 7, 11, 13, 17, 17, 19, 2, 3, 5, 7, 11, 13, 17, 17, 19]\n"
     ]
    }
   ],
   "source": [
    "min_liste.append(17)\n",
    "print(min_liste)\n",
    "print(len(min_liste))\n",
    "min_liste = min_liste + [19]\n",
    "print(min_liste)\n",
    "print(min_liste * 2)"
   ]
  },
  {
   "cell_type": "markdown",
   "metadata": {},
   "source": [
    "Du har også **tupler** som fungerer på mye samme måte som lister, men som ikke er **muterbare**"
   ]
  },
  {
   "cell_type": "code",
   "execution_count": 7,
   "metadata": {},
   "outputs": [
    {
     "name": "stdout",
     "output_type": "stream",
     "text": [
      "2\n"
     ]
    },
    {
     "ename": "TypeError",
     "evalue": "'tuple' object does not support item assignment",
     "output_type": "error",
     "traceback": [
      "\u001b[1;31m---------------------------------------------------------------------------\u001b[0m",
      "\u001b[1;31mTypeError\u001b[0m                                 Traceback (most recent call last)",
      "\u001b[1;32mc:\\Users\\Vegard\\OneDrive - NTNU\\Documents\\Kodeprosjekt\\ITGK-Eksamensforelesning-H2021\\Økt_1\\list.ipynb Cell 10\u001b[0m line \u001b[0;36m3\n\u001b[0;32m      <a href='vscode-notebook-cell:/c%3A/Users/Vegard/OneDrive%20-%20NTNU/Documents/Kodeprosjekt/ITGK-Eksamensforelesning-H2021/%C3%98kt_1/list.ipynb#X12sZmlsZQ%3D%3D?line=0'>1</a>\u001b[0m min_tuppel \u001b[39m=\u001b[39m (\u001b[39m1\u001b[39m,\u001b[39m2\u001b[39m,\u001b[39m3\u001b[39m)\n\u001b[0;32m      <a href='vscode-notebook-cell:/c%3A/Users/Vegard/OneDrive%20-%20NTNU/Documents/Kodeprosjekt/ITGK-Eksamensforelesning-H2021/%C3%98kt_1/list.ipynb#X12sZmlsZQ%3D%3D?line=1'>2</a>\u001b[0m \u001b[39mprint\u001b[39m(min_tuppel[\u001b[39m1\u001b[39m])\n\u001b[1;32m----> <a href='vscode-notebook-cell:/c%3A/Users/Vegard/OneDrive%20-%20NTNU/Documents/Kodeprosjekt/ITGK-Eksamensforelesning-H2021/%C3%98kt_1/list.ipynb#X12sZmlsZQ%3D%3D?line=2'>3</a>\u001b[0m min_tuppel[\u001b[39m1\u001b[39;49m] \u001b[39m=\u001b[39m \u001b[39m3\u001b[39m\n",
      "\u001b[1;31mTypeError\u001b[0m: 'tuple' object does not support item assignment"
     ]
    }
   ],
   "source": [
    "min_tuppel = (1,2,3)\n",
    "print(min_tuppel[1])\n",
    "min_tuppel[1] = 3"
   ]
  }
 ],
 "metadata": {
  "interpreter": {
   "hash": "970ce3132f224d7747ed0f4b20681d591dc99902d3fdba431508a555c8f3dd02"
  },
  "kernelspec": {
   "display_name": "Python 3.9.1 64-bit",
   "name": "python3"
  },
  "language_info": {
   "codemirror_mode": {
    "name": "ipython",
    "version": 3
   },
   "file_extension": ".py",
   "mimetype": "text/x-python",
   "name": "python",
   "nbconvert_exporter": "python",
   "pygments_lexer": "ipython3",
   "version": "3.11.1"
  },
  "orig_nbformat": 4
 },
 "nbformat": 4,
 "nbformat_minor": 2
}

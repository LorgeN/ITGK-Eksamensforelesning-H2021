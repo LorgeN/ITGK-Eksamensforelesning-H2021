{
 "cells": [
  {
   "cell_type": "markdown",
   "metadata": {},
   "source": [
    "# Variabler\n",
    "\n",
    "I python setter man variabler ved tegnet \"=\"\n",
    "\n",
    "Man bruker variabler for å kunne lagre verdier, og bruke de igjen"
   ]
  },
  {
   "cell_type": "code",
   "execution_count": 4,
   "metadata": {},
   "outputs": [
    {
     "name": "stdout",
     "output_type": "stream",
     "text": [
      "3\n",
      "7\n",
      "3\n",
      "34\n",
      "True\n"
     ]
    }
   ],
   "source": [
    "tall_1 = 3\n",
    "tall_2 = 4\n",
    "streng_1 = \"3\"\n",
    "streng_2 = \"4\"\n",
    "bool_1 = True\n",
    "\n",
    "print(tall_1)\n",
    "print(tall_1 + tall_2)\n",
    "print(streng_1)\n",
    "print(streng_1 + streng_2)\n",
    "print(bool_1)"
   ]
  }
 ],
 "metadata": {
  "interpreter": {
   "hash": "970ce3132f224d7747ed0f4b20681d591dc99902d3fdba431508a555c8f3dd02"
  },
  "kernelspec": {
   "display_name": "Python 3.9.1 64-bit",
   "name": "python3"
  },
  "language_info": {
   "codemirror_mode": {
    "name": "ipython",
    "version": 3
   },
   "file_extension": ".py",
   "mimetype": "text/x-python",
   "name": "python",
   "nbconvert_exporter": "python",
   "pygments_lexer": "ipython3",
   "version": "3.9.1"
  },
  "orig_nbformat": 4
 },
 "nbformat": 4,
 "nbformat_minor": 2
}

{
 "cells": [
  {
   "cell_type": "markdown",
   "metadata": {},
   "source": [
    "# Løkker"
   ]
  },
  {
   "cell_type": "markdown",
   "metadata": {},
   "source": [
    "## range-funksjonen\n",
    "\n",
    "`range`-funksjonen lar oss generer en rekke med tall (Legg merke til at den **ikke** generer en liste!) basert på hva vi gir den. `range` funksjonen kan ta inn forskjellig antall inputs avhengig av hva vi ønsker å gjøre.\n",
    "\n",
    "Parametere:\n",
    "`range(start, stop, step)`\n",
    " - Start: Angir hva det første tallet er\n",
    " - Stop: Angir hva det siste tallet er (eksklusivt)\n",
    " - Step: Angir hvor mye tallet endres for hvert steg\n",
    "\n",
    "**Eksempler:**\n",
    "\n",
    " - `range(5)` - 0, 1, 2, 3, 4\n",
    " - `range(3, 5)` - 3, 4\n",
    " - `range(1, 10, 2)` - 1, 3, 5, 7, 9\n",
    " - `range(5, -1, -1)`- 5, 4, 3, 2, 1, 0"
   ]
  },
  {
   "cell_type": "markdown",
   "metadata": {},
   "source": [
    "## for\n",
    "\n",
    "Gjenta noe et bestemt antall ganger. Kan brukes til å gå gjennom verdier i en liste.\n",
    "\n",
    "**Eksempel:** Ta inn 3 strenger fra bruker og legg dem i en liste. Print ut listen."
   ]
  },
  {
   "cell_type": "markdown",
   "metadata": {},
   "source": [
    "Uten løkker:"
   ]
  },
  {
   "cell_type": "code",
   "execution_count": null,
   "metadata": {},
   "outputs": [],
   "source": [
    "my_list = []\n",
    "my_list.append(input(\"Streng 1: \"))\n",
    "my_list.append(input(\"Streng 2: \"))\n",
    "my_list.append(input(\"Streng 3: \"))\n",
    "# Hva om vi skulle hatt mange flere her?\n",
    "\n",
    "print(my_list)"
   ]
  },
  {
   "cell_type": "markdown",
   "metadata": {},
   "source": [
    "Med løkker:"
   ]
  },
  {
   "cell_type": "code",
   "execution_count": null,
   "metadata": {},
   "outputs": [],
   "source": [
    "my_list = []\n",
    "\n",
    "for i in range(3):\n",
    "    my_list.append(input(f\"Streng {i}: \"))\n",
    "\n",
    "print(my_list)"
   ]
  },
  {
   "cell_type": "markdown",
   "metadata": {},
   "source": [
    "Vi kan så iterere over `my_list` om vi ønsker."
   ]
  },
  {
   "cell_type": "code",
   "execution_count": null,
   "metadata": {},
   "outputs": [],
   "source": [
    "for entry in my_list:\n",
    "    print(entry)"
   ]
  },
  {
   "cell_type": "markdown",
   "metadata": {},
   "source": [
    "## while\n",
    "\n",
    "Gjenta noe så lenge et uttrykk er sant\n",
    "\n",
    "**Eksempel:** Ta inn tall fra brukeren så lenge brukeren ikke skriver inn en tom streng. Anta at brukeren er snill og alltid skriver inn tall eller den tomme strengen. Print gjennomsnitt av disse."
   ]
  },
  {
   "cell_type": "code",
   "execution_count": 2,
   "metadata": {},
   "outputs": [
    {
     "name": "stdout",
     "output_type": "stream",
     "text": [
      "Gjennomsnitt: 2.0\n"
     ]
    }
   ],
   "source": [
    "numbers = []\n",
    "\n",
    "given = input(\"Skriv inn et tall: \")\n",
    "while not given == \"\":\n",
    "    num = int(given)\n",
    "    numbers.append(num)\n",
    "    given = input(\"Skriv inn et tall: \")\n",
    "\n",
    "print(f\"Gjennomsnitt: {sum(numbers) / len(numbers)}\")"
   ]
  }
 ],
 "metadata": {
  "interpreter": {
   "hash": "9b22e2f4d263cc3315d940bacd486823353d02ef13dfaaa948a0e271d1d315fc"
  },
  "kernelspec": {
   "display_name": "Python 3.8.10 64-bit ('venv': venv)",
   "language": "python",
   "name": "python3"
  },
  "language_info": {
   "codemirror_mode": {
    "name": "ipython",
    "version": 3
   },
   "file_extension": ".py",
   "mimetype": "text/x-python",
   "name": "python",
   "nbconvert_exporter": "python",
   "pygments_lexer": "ipython3",
   "version": "3.8.10"
  },
  "orig_nbformat": 4
 },
 "nbformat": 4,
 "nbformat_minor": 2
}

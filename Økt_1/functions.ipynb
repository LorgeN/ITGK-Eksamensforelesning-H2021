{
 "cells": [
  {
   "cell_type": "markdown",
   "metadata": {},
   "source": [
    "# Funksjoner\n",
    "\n",
    "Funksjoner er kodeblokker som kun kjøres når du kaller på de.\n",
    "Disse kan brukes flere ganger"
   ]
  },
  {
   "cell_type": "code",
   "execution_count": 1,
   "metadata": {},
   "outputs": [],
   "source": [
    "# print(\"Halla kompis!\")\n",
    "\n",
    "def hallo():\n",
    "    print(\"Halla kompis\")"
   ]
  },
  {
   "cell_type": "code",
   "execution_count": 2,
   "metadata": {},
   "outputs": [
    {
     "name": "stdout",
     "output_type": "stream",
     "text": [
      "Halla kompis\n",
      "Halla kompis\n",
      "Halla kompis\n"
     ]
    }
   ],
   "source": [
    "hallo()\n",
    "hallo()\n",
    "hallo()"
   ]
  },
  {
   "cell_type": "markdown",
   "metadata": {},
   "source": [
    "Informasjon kan bli sendt inn til funksjoner ved hjelp av **argumenter**"
   ]
  },
  {
   "cell_type": "code",
   "execution_count": 4,
   "metadata": {},
   "outputs": [],
   "source": [
    "def hallo_navn(navn):\n",
    "    print(f\"Hallo {navn}\")"
   ]
  },
  {
   "cell_type": "code",
   "execution_count": 5,
   "metadata": {},
   "outputs": [
    {
     "name": "stdout",
     "output_type": "stream",
     "text": [
      "Hallo Eirik\n",
      "Hallo Lorgen\n"
     ]
    }
   ],
   "source": [
    "hallo_navn(\"Eirik\")\n",
    "hallo_navn(\"Lorgen\")"
   ]
  },
  {
   "cell_type": "markdown",
   "metadata": {},
   "source": [
    "## Verdien av en funksjon\n",
    "\n",
    "En funksjon får verdien sin fra **return**-statement\n"
   ]
  },
  {
   "cell_type": "code",
   "execution_count": 6,
   "metadata": {},
   "outputs": [
    {
     "name": "stdout",
     "output_type": "stream",
     "text": [
      "Variabel 1 har verdien 5, variabel 2 har verdien Halla Kompis og variabel 3 har verdien None\n"
     ]
    }
   ],
   "source": [
    "def funksjon_med_verdien_5():\n",
    "    return 5\n",
    "\n",
    "def funksjon_med_verdien_Halla_Kompis():\n",
    "    return \"Halla Kompis\"\n",
    "\n",
    "def funksjon_uten_return():\n",
    "    \"\"\"Denne funksjonen har ingen return\"\"\"\n",
    "\n",
    "\n",
    "variabel_1 = funksjon_med_verdien_5()\n",
    "\n",
    "variabel_2 = funksjon_med_verdien_Halla_Kompis()\n",
    "\n",
    "variabel_3 = funksjon_uten_return()\n",
    "\n",
    "print(f\"Variabel 1 har verdien {variabel_1}, variabel 2 har verdien {variabel_2} og variabel 3 har verdien {variabel_3}\")"
   ]
  },
  {
   "cell_type": "markdown",
   "metadata": {},
   "source": [
    "Når du kaller på en funksjon, hopper kompilatoren opp til funksjonen for å lese verdien dens"
   ]
  },
  {
   "cell_type": "code",
   "execution_count": 7,
   "metadata": {},
   "outputs": [
    {
     "name": "stdout",
     "output_type": "stream",
     "text": [
      "menneskerettighetserklæring\n"
     ]
    }
   ],
   "source": [
    "def slå_sammen_to_ord(ord1, ord2):\n",
    "    return ord1 + ord2\n",
    "\n",
    "første_ord = slå_sammen_to_ord(\"menn\", \"eske\")\n",
    "andre_ord = slå_sammen_to_ord(første_ord, \"rett\")\n",
    "tredje_ord = slå_sammen_to_ord(andre_ord, \"ighets\")\n",
    "siste_ord = slå_sammen_to_ord(tredje_ord, \"erklæring\")\n",
    "\n",
    "print(siste_ord)"
   ]
  },
  {
   "cell_type": "markdown",
   "metadata": {},
   "source": [
    "Du kan også kalle funksjoner inne i hverandre, da skjer de innerst først"
   ]
  },
  {
   "cell_type": "code",
   "execution_count": 8,
   "metadata": {},
   "outputs": [
    {
     "name": "stdout",
     "output_type": "stream",
     "text": [
      "Halla Kompis, godt å se deg <3\n"
     ]
    }
   ],
   "source": [
    "print(slå_sammen_to_ord(funksjon_med_verdien_Halla_Kompis(), \", godt å se deg <3\"))"
   ]
  },
  {
   "cell_type": "code",
   "execution_count": 10,
   "metadata": {},
   "outputs": [
    {
     "ename": "TypeError",
     "evalue": "'tuple' object does not support item assignment",
     "output_type": "error",
     "traceback": [
      "\u001b[1;31m---------------------------------------------------------------------------\u001b[0m",
      "\u001b[1;31mTypeError\u001b[0m                                 Traceback (most recent call last)",
      "\u001b[1;32mc:\\Users\\Vegard\\OneDrive - NTNU\\Documents\\Kodeprosjekt\\ITGK-Eksamensforelesning-H2021\\Økt_1\\functions.ipynb Cell 13\u001b[0m line \u001b[0;36m3\n\u001b[0;32m      <a href='vscode-notebook-cell:/c%3A/Users/Vegard/OneDrive%20-%20NTNU/Documents/Kodeprosjekt/ITGK-Eksamensforelesning-H2021/%C3%98kt_1/functions.ipynb#X15sZmlsZQ%3D%3D?line=0'>1</a>\u001b[0m liste \u001b[39m=\u001b[39m [\u001b[39m1\u001b[39m, \u001b[39m2\u001b[39m, \u001b[39m3\u001b[39m]\n\u001b[0;32m      <a href='vscode-notebook-cell:/c%3A/Users/Vegard/OneDrive%20-%20NTNU/Documents/Kodeprosjekt/ITGK-Eksamensforelesning-H2021/%C3%98kt_1/functions.ipynb#X15sZmlsZQ%3D%3D?line=1'>2</a>\u001b[0m tuppel \u001b[39m=\u001b[39m (\u001b[39m1\u001b[39m, \u001b[39m2\u001b[39m, \u001b[39m3\u001b[39m)\n\u001b[1;32m----> <a href='vscode-notebook-cell:/c%3A/Users/Vegard/OneDrive%20-%20NTNU/Documents/Kodeprosjekt/ITGK-Eksamensforelesning-H2021/%C3%98kt_1/functions.ipynb#X15sZmlsZQ%3D%3D?line=2'>3</a>\u001b[0m tuppel[\u001b[39m0\u001b[39;49m] \u001b[39m=\u001b[39m \u001b[39m0\u001b[39m\n\u001b[0;32m      <a href='vscode-notebook-cell:/c%3A/Users/Vegard/OneDrive%20-%20NTNU/Documents/Kodeprosjekt/ITGK-Eksamensforelesning-H2021/%C3%98kt_1/functions.ipynb#X15sZmlsZQ%3D%3D?line=3'>4</a>\u001b[0m \u001b[39mprint\u001b[39m(tuppel)\n",
      "\u001b[1;31mTypeError\u001b[0m: 'tuple' object does not support item assignment"
     ]
    }
   ],
   "source": [
    "liste = [1, 2, 3]\n",
    "tuppel = (1, 2, 3)\n",
    "tuppel[0] = 0\n",
    "print(tuppel)"
   ]
  }
 ],
 "metadata": {
  "interpreter": {
   "hash": "970ce3132f224d7747ed0f4b20681d591dc99902d3fdba431508a555c8f3dd02"
  },
  "kernelspec": {
   "display_name": "Python 3.9.1 64-bit",
   "name": "python3"
  },
  "language_info": {
   "codemirror_mode": {
    "name": "ipython",
    "version": 3
   },
   "file_extension": ".py",
   "mimetype": "text/x-python",
   "name": "python",
   "nbconvert_exporter": "python",
   "pygments_lexer": "ipython3",
   "version": "3.11.1"
  },
  "orig_nbformat": 4
 },
 "nbformat": 4,
 "nbformat_minor": 2
}

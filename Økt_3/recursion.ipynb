{
 "cells": [
  {
   "cell_type": "markdown",
   "metadata": {},
   "source": [
    "# Rekursjon\n",
    "\n",
    "En funksjon kan kalle på seg selv. Klassisk eksempel fra matematikk er fibonacci:\n",
    "\n",
    "$$f(x) = \\begin{cases}\n",
    "0 & x = 0 \\\\\n",
    "1 & x = 1 \\\\\n",
    "f(x - 1) + f(x - 2) & ellers \\\\\n",
    "\\end{cases}$$\n",
    "\n",
    "Hvordan kan vi implementere dette i Python?"
   ]
  },
  {
   "cell_type": "code",
   "execution_count": null,
   "metadata": {},
   "outputs": [],
   "source": [
    "def fibonacci(x):\n",
    "    if x == 0:\n",
    "        return 0\n",
    "    elif x == 1:\n",
    "        return 1\n",
    "    else:\n",
    "        return fibonacci(x - 1) + fibonacci(x - 2)\n",
    "\n",
    "print(f\"f(5) = {fibonacci(3)}\")"
   ]
  },
  {
   "cell_type": "markdown",
   "metadata": {},
   "source": [
    "**Eksempel:** Generer en liste av `n` unike tilfeldige tall mellom `start` og `slutt`."
   ]
  },
  {
   "cell_type": "code",
   "execution_count": null,
   "metadata": {},
   "outputs": [],
   "source": [
    "from random import randint\n",
    "\n",
    "def random_numbers(n, start, slutt, liste=[]):\n",
    "    if n == 0:\n",
    "        return liste\n",
    "    \n",
    "    num = randint(start, slutt)\n",
    "    if num not in liste:\n",
    "        liste.append(num)\n",
    "\n",
    "    return random_numbers(n - 1, start, slutt, liste=liste)\n",
    "\n",
    "print(f\"Tall: {random_numbers(10, 5, 15)}\")"
   ]
  }
 ],
 "metadata": {
  "interpreter": {
   "hash": "9b22e2f4d263cc3315d940bacd486823353d02ef13dfaaa948a0e271d1d315fc"
  },
  "kernelspec": {
   "display_name": "Python 3.8.10 64-bit ('venv': venv)",
   "language": "python",
   "name": "python3"
  },
  "language_info": {
   "codemirror_mode": {
    "name": "ipython",
    "version": 3
   },
   "file_extension": ".py",
   "mimetype": "text/x-python",
   "name": "python",
   "nbconvert_exporter": "python",
   "pygments_lexer": "ipython3",
   "version": "3.8.10"
  },
  "orig_nbformat": 4
 },
 "nbformat": 4,
 "nbformat_minor": 2
}

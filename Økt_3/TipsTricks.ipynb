{
 "cells": [
  {
   "cell_type": "markdown",
   "metadata": {},
   "source": [
    "# Tips & Tricks\n",
    "\n",
    "### enumerate\n",
    "Dersom du vil iterere igjennom en liste, og samtidig ha element og index, kan du bruke enumerate"
   ]
  },
  {
   "cell_type": "code",
   "execution_count": 1,
   "metadata": {},
   "outputs": [
    {
     "name": "stdout",
     "output_type": "stream",
     "text": [
      "Katt har index 0\n",
      "Hund har index 1\n",
      "Hamster har index 2\n",
      "Papegøye har index 3\n",
      "Vaskebjørn har index 4\n"
     ]
    }
   ],
   "source": [
    "liste = [\"Katt\", \"Hund\", \"Hamster\", \"Papegøye\", \"Vaskebjørn\"]\n",
    "for index, element in enumerate(liste):\n",
    "    print(f\"{element} har index {index}\")"
   ]
  },
  {
   "cell_type": "markdown",
   "metadata": {},
   "source": [
    "### randint\n",
    "\n",
    "Generer et tilfeldig tall mellom `start` og `slutt` (**NB!** `slutt` er inkludert)."
   ]
  },
  {
   "cell_type": "code",
   "execution_count": 2,
   "metadata": {},
   "outputs": [
    {
     "name": "stdout",
     "output_type": "stream",
     "text": [
      "Et tilfeldig tall mellom 0 og 100: 97\n"
     ]
    }
   ],
   "source": [
    "from random import randint\n",
    "\n",
    "print(f\"Et tilfeldig tall mellom 0 og 100: {randint(0, 100)}\")"
   ]
  },
  {
   "cell_type": "markdown",
   "metadata": {},
   "source": [
    "### zip\n",
    "\n",
    "Iterer gjennom 2 lister samtidig."
   ]
  },
  {
   "cell_type": "code",
   "execution_count": 3,
   "metadata": {},
   "outputs": [
    {
     "name": "stdout",
     "output_type": "stream",
     "text": [
      "Katt sier Mjau\n",
      "Hund sier Voff\n",
      "Hamster sier Pip\n",
      "Papegøye sier Hei\n",
      "Vaskebjørn sier ???\n",
      "Katt sier Mjau\n",
      "Hund sier Voff\n",
      "Hamster sier Pip\n",
      "Papegøye sier Hei\n",
      "Vaskebjørn sier ???\n"
     ]
    }
   ],
   "source": [
    "animals = [\"Katt\", \"Hund\", \"Hamster\", \"Papegøye\", \"Vaskebjørn\"]\n",
    "sounds = [\"Mjau\", \"Voff\", \"Pip\", \"Hei\", \"???\"]\n",
    "\n",
    "for i in range(len(animals)):\n",
    "    print(f\"{animals[i]} sier {sounds[i]}\")\n",
    "\n",
    "for animal, sound in zip(animals, sounds):\n",
    "    print(f\"{animal} sier {sound}\")"
   ]
  },
  {
   "cell_type": "markdown",
   "metadata": {},
   "source": [
    "### min/max\n",
    "\n",
    "Returnerer det minste/største elementet i en liste/set."
   ]
  },
  {
   "cell_type": "code",
   "execution_count": 4,
   "metadata": {},
   "outputs": [
    {
     "name": "stdout",
     "output_type": "stream",
     "text": [
      "Minste element: 3\n",
      "Største element: 9834\n"
     ]
    }
   ],
   "source": [
    "from random import randint\n",
    "\n",
    "some_random_numbers = []\n",
    "for i in range(100):\n",
    "    some_random_numbers.append(randint(0, 10000))\n",
    "\n",
    "print(f\"Minste element: {min(some_random_numbers)}\")\n",
    "print(f\"Største element: {max(some_random_numbers)}\")"
   ]
  },
  {
   "cell_type": "markdown",
   "metadata": {},
   "source": [
    "### any\n",
    "\n",
    "Returnerer `True` om noe i listen er sant"
   ]
  },
  {
   "cell_type": "code",
   "execution_count": 5,
   "metadata": {},
   "outputs": [
    {
     "name": "stdout",
     "output_type": "stream",
     "text": [
      "Er noe sant? True\n"
     ]
    }
   ],
   "source": [
    "min_boolske_liste = [False, False, False, True]\n",
    "\n",
    "print(f\"Er noe sant? {any(min_boolske_liste)}\")"
   ]
  },
  {
   "cell_type": "markdown",
   "metadata": {},
   "source": [
    "### all\n",
    "\n",
    "Returnerer `True` dersom alt i listen er sant"
   ]
  },
  {
   "cell_type": "code",
   "execution_count": 6,
   "metadata": {},
   "outputs": [
    {
     "name": "stdout",
     "output_type": "stream",
     "text": [
      "Er alt sant? False\n"
     ]
    }
   ],
   "source": [
    "print(f\"Er alt sant? {all(min_boolske_liste)}\")"
   ]
  },
  {
   "cell_type": "markdown",
   "metadata": {},
   "source": [
    "### sorted\n",
    "\n",
    "Returnerer en sortert liste"
   ]
  },
  {
   "cell_type": "code",
   "execution_count": 7,
   "metadata": {},
   "outputs": [
    {
     "name": "stdout",
     "output_type": "stream",
     "text": [
      "Kaos: [6902, 9193, 2750, 5100, 9765, 9493, 6781, 8516, 277, 8346, 6597, 8467, 974, 1445, 713, 7267, 7865, 2363, 2678, 2981, 7970, 9379, 7188, 2136, 4822, 9423, 7584, 1788, 2967, 9834, 3251, 687, 1989, 966, 7528, 8350, 1379, 117, 7604, 3760, 1534, 8041, 2756, 2368, 9077, 2131, 3856, 5095, 8318, 4214, 6682, 7286, 6895, 4245, 2981, 5639, 2824, 4702, 9515, 337, 2660, 5051, 2299, 1076, 4550, 4435, 877, 1182, 634, 7206, 7790, 7264, 5473, 1961, 3, 4466, 6817, 894, 3341, 142, 6233, 2961, 7715, 3752, 5534, 2538, 2225, 7275, 6963, 4728, 3019, 5475, 6662, 8532, 701, 5769, 7388, 4430, 4960, 7789]\n",
      "Ikke kaos: [3, 117, 142, 277, 337, 634, 687, 701, 713, 877, 894, 966, 974, 1076, 1182, 1379, 1445, 1534, 1788, 1961, 1989, 2131, 2136, 2225, 2299, 2363, 2368, 2538, 2660, 2678, 2750, 2756, 2824, 2961, 2967, 2981, 2981, 3019, 3251, 3341, 3752, 3760, 3856, 4214, 4245, 4430, 4435, 4466, 4550, 4702, 4728, 4822, 4960, 5051, 5095, 5100, 5473, 5475, 5534, 5639, 5769, 6233, 6597, 6662, 6682, 6781, 6817, 6895, 6902, 6963, 7188, 7206, 7264, 7267, 7275, 7286, 7388, 7528, 7584, 7604, 7715, 7789, 7790, 7865, 7970, 8041, 8318, 8346, 8350, 8467, 8516, 8532, 9077, 9193, 9379, 9423, 9493, 9515, 9765, 9834]\n"
     ]
    }
   ],
   "source": [
    "print(f\"Kaos: {some_random_numbers}\")\n",
    "print(f\"Ikke kaos: {sorted(some_random_numbers)}\")"
   ]
  },
  {
   "cell_type": "markdown",
   "metadata": {},
   "source": [
    "**NB!** `sorted` endrer ikke listen, men `.sort()` gjør"
   ]
  },
  {
   "cell_type": "code",
   "execution_count": 8,
   "metadata": {},
   "outputs": [
    {
     "name": "stdout",
     "output_type": "stream",
     "text": [
      "Fortsatt kaos: [6902, 9193, 2750, 5100, 9765, 9493, 6781, 8516, 277, 8346, 6597, 8467, 974, 1445, 713, 7267, 7865, 2363, 2678, 2981, 7970, 9379, 7188, 2136, 4822, 9423, 7584, 1788, 2967, 9834, 3251, 687, 1989, 966, 7528, 8350, 1379, 117, 7604, 3760, 1534, 8041, 2756, 2368, 9077, 2131, 3856, 5095, 8318, 4214, 6682, 7286, 6895, 4245, 2981, 5639, 2824, 4702, 9515, 337, 2660, 5051, 2299, 1076, 4550, 4435, 877, 1182, 634, 7206, 7790, 7264, 5473, 1961, 3, 4466, 6817, 894, 3341, 142, 6233, 2961, 7715, 3752, 5534, 2538, 2225, 7275, 6963, 4728, 3019, 5475, 6662, 8532, 701, 5769, 7388, 4430, 4960, 7789]\n",
      "Ikke kaos (?): [3, 117, 142, 277, 337, 634, 687, 701, 713, 877, 894, 966, 974, 1076, 1182, 1379, 1445, 1534, 1788, 1961, 1989, 2131, 2136, 2225, 2299, 2363, 2368, 2538, 2660, 2678, 2750, 2756, 2824, 2961, 2967, 2981, 2981, 3019, 3251, 3341, 3752, 3760, 3856, 4214, 4245, 4430, 4435, 4466, 4550, 4702, 4728, 4822, 4960, 5051, 5095, 5100, 5473, 5475, 5534, 5639, 5769, 6233, 6597, 6662, 6682, 6781, 6817, 6895, 6902, 6963, 7188, 7206, 7264, 7267, 7275, 7286, 7388, 7528, 7584, 7604, 7715, 7789, 7790, 7865, 7970, 8041, 8318, 8346, 8350, 8467, 8516, 8532, 9077, 9193, 9379, 9423, 9493, 9515, 9765, 9834]\n"
     ]
    }
   ],
   "source": [
    "print(f\"Fortsatt kaos: {some_random_numbers}\")\n",
    "some_random_numbers.sort()\n",
    "print(f\"Ikke kaos (?): {some_random_numbers}\")"
   ]
  },
  {
   "cell_type": "markdown",
   "metadata": {},
   "source": [
    "### set/list\n",
    "\n",
    "Lager et nytt set/ny liste av det du gir inn. Benytt sammen med `range` for kule greier"
   ]
  },
  {
   "cell_type": "code",
   "execution_count": 15,
   "metadata": {},
   "outputs": [
    {
     "name": "stdout",
     "output_type": "stream",
     "text": [
      "[1, 2, 3, 4, 5, 6, 7, 8, 9, 10]\n",
      "range(1, 11)\n",
      "[1, 2, 3, 4, 5, 6, 7, 8, 9, 10]\n"
     ]
    }
   ],
   "source": [
    "import pickle\n",
    "\n",
    "liste_med_tall = list(range(1, 11))\n",
    "set_med_tall = (range(1, 11))\n",
    "print(liste_med_tall)\n",
    "print(set_med_tall)\n",
    "\n",
    "\n",
    "#Pickle eksempel fra pause\n",
    "file= open(\"test.txt\", \"wb\")\n",
    "file.write(pickle.dumps(liste_med_tall))\n",
    "file.close()\n",
    "\n",
    "file = open(\"test.txt\", \"rb\")\n",
    "liste = pickle.loads(file.read())\n",
    "print(liste)"
   ]
  },
  {
   "cell_type": "markdown",
   "metadata": {},
   "source": [
    "### `+=`/`-=`/`/=`/`*=`/`%=`\n",
    "\n",
    "Kort for f. eks. `tall = tall + 2` $\\rightarrow$ `tall += 2`"
   ]
  },
  {
   "cell_type": "code",
   "execution_count": 13,
   "metadata": {},
   "outputs": [],
   "source": [
    "tall = 5\n",
    "tall += 3\n",
    "tall -= 3\n",
    "tall *= 2\n",
    "tall /= 2\n",
    "tall %= 5"
   ]
  },
  {
   "cell_type": "markdown",
   "metadata": {},
   "source": [
    "### .join(strenger)\n",
    "\n",
    "Sett sammen en liste strenger"
   ]
  },
  {
   "cell_type": "code",
   "execution_count": 10,
   "metadata": {},
   "outputs": [
    {
     "name": "stdout",
     "output_type": "stream",
     "text": [
      "Dette er strenger som skal settes sammen!\n",
      "Dette, er, strenger, som, skal, settes, sammen!\n"
     ]
    }
   ],
   "source": [
    "liste_med_strenger = [\"Dette\", \"er\", \"strenger\", \"som\", \"skal\", \"settes\", \"sammen!\"]\n",
    "print(\" \".join(liste_med_strenger))\n",
    "print(\", \".join(liste_med_strenger))"
   ]
  }
 ],
 "metadata": {
  "interpreter": {
   "hash": "9b22e2f4d263cc3315d940bacd486823353d02ef13dfaaa948a0e271d1d315fc"
  },
  "kernelspec": {
   "display_name": "Python 3.8.10 64-bit ('venv': venv)",
   "language": "python",
   "name": "python3"
  },
  "language_info": {
   "codemirror_mode": {
    "name": "ipython",
    "version": 3
   },
   "file_extension": ".py",
   "mimetype": "text/x-python",
   "name": "python",
   "nbconvert_exporter": "python",
   "pygments_lexer": "ipython3",
   "version": "3.11.1"
  },
  "orig_nbformat": 4
 },
 "nbformat": 4,
 "nbformat_minor": 2
}

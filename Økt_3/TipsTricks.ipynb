{
 "cells": [
  {
   "cell_type": "markdown",
   "metadata": {},
   "source": [
    "# Tips & Tricks\n",
    "\n",
    "### enumerate\n",
    "Dersom du vil iterere igjennom en liste, og samtidig ha element og index, kan du bruke enumerate"
   ]
  },
  {
   "cell_type": "code",
   "execution_count": 13,
   "metadata": {},
   "outputs": [
    {
     "name": "stdout",
     "output_type": "stream",
     "text": [
      "Katt har index 0\n",
      "Hund har index 1\n",
      "Hamster har index 2\n",
      "Papegøye har index 3\n",
      "Vaskebjørn har index 4\n"
     ]
    }
   ],
   "source": [
    "liste = [\"Katt\", \"Hund\", \"Hamster\", \"Papegøye\", \"Vaskebjørn\"]\n",
    "for index, element in enumerate(liste):\n",
    "    print(f\"{element} har index {index}\")"
   ]
  },
  {
   "cell_type": "markdown",
   "metadata": {},
   "source": [
    "### randint\n",
    "\n",
    "Generer et tilfeldig tall mellom `start` og `slutt` (**NB!** `slutt` er inkludert)."
   ]
  },
  {
   "cell_type": "code",
   "execution_count": 4,
   "metadata": {},
   "outputs": [
    {
     "name": "stdout",
     "output_type": "stream",
     "text": [
      "Et tilfeldig tall mellom 0 og 100: 66\n"
     ]
    }
   ],
   "source": [
    "from random import randint\n",
    "\n",
    "print(f\"Et tilfeldig tall mellom 0 og 100: {randint(0, 100)}\")"
   ]
  },
  {
   "cell_type": "markdown",
   "metadata": {},
   "source": [
    "### zip\n",
    "\n",
    "Iterer gjennom 2 lister samtidig."
   ]
  },
  {
   "cell_type": "code",
   "execution_count": 5,
   "metadata": {},
   "outputs": [
    {
     "name": "stdout",
     "output_type": "stream",
     "text": [
      "Katt sier Mjau\n",
      "Hund sier Voff\n",
      "Hamster sier Pip\n",
      "Papegøye sier Hei\n",
      "Vaskebjørn sier ???\n",
      "Katt sier Mjau\n",
      "Hund sier Voff\n",
      "Hamster sier Pip\n",
      "Papegøye sier Hei\n",
      "Vaskebjørn sier ???\n"
     ]
    }
   ],
   "source": [
    "animals = [\"Katt\", \"Hund\", \"Hamster\", \"Papegøye\", \"Vaskebjørn\"]\n",
    "sounds = [\"Mjau\", \"Voff\", \"Pip\", \"Hei\", \"???\"]\n",
    "\n",
    "for i in range(len(animals)):\n",
    "    print(f\"{animals[i]} sier {sounds[i]}\")\n",
    "\n",
    "for animal, sound in zip(animals, sounds):\n",
    "    print(f\"{animal} sier {sound}\")"
   ]
  },
  {
   "cell_type": "markdown",
   "metadata": {},
   "source": [
    "### min/max\n",
    "\n",
    "Returnerer det minste/største elementet i en liste/set."
   ]
  },
  {
   "cell_type": "code",
   "execution_count": 6,
   "metadata": {},
   "outputs": [
    {
     "name": "stdout",
     "output_type": "stream",
     "text": [
      "Minste element: 14\n",
      "Største element: 9959\n"
     ]
    }
   ],
   "source": [
    "from random import randint\n",
    "\n",
    "some_random_numbers = []\n",
    "for i in range(100):\n",
    "    some_random_numbers.append(randint(0, 10000))\n",
    "\n",
    "print(f\"Minste element: {min(some_random_numbers)}\")\n",
    "print(f\"Største element: {max(some_random_numbers)}\")"
   ]
  },
  {
   "cell_type": "markdown",
   "metadata": {},
   "source": [
    "### any\n",
    "\n",
    "Returnerer `True` om noe i listen er sant"
   ]
  },
  {
   "cell_type": "code",
   "execution_count": 7,
   "metadata": {},
   "outputs": [
    {
     "name": "stdout",
     "output_type": "stream",
     "text": [
      "Er noe sant? True\n"
     ]
    }
   ],
   "source": [
    "min_boolske_liste = [False, False, False, True]\n",
    "\n",
    "print(f\"Er noe sant? {any(min_boolske_liste)}\")"
   ]
  },
  {
   "cell_type": "markdown",
   "metadata": {},
   "source": [
    "### all\n",
    "\n",
    "Returnerer `True` dersom alt i listen er sant"
   ]
  },
  {
   "cell_type": "code",
   "execution_count": 15,
   "metadata": {},
   "outputs": [
    {
     "name": "stdout",
     "output_type": "stream",
     "text": [
      "Er alt sant? False\n"
     ]
    }
   ],
   "source": [
    "print(f\"Er alt sant? {all(min_boolske_liste)}\")"
   ]
  },
  {
   "cell_type": "markdown",
   "metadata": {},
   "source": [
    "### sorted\n",
    "\n",
    "Returnerer en sortert liste"
   ]
  },
  {
   "cell_type": "code",
   "execution_count": 16,
   "metadata": {},
   "outputs": [
    {
     "name": "stdout",
     "output_type": "stream",
     "text": [
      "Kaos: [14, 15, 132, 185, 271, 282, 346, 347, 618, 640, 717, 1055, 1116, 1123, 1256, 1291, 1459, 1564, 1573, 1637, 1682, 1688, 1767, 1802, 1910, 1996, 2239, 2536, 2763, 2781, 2897, 2911, 3137, 3236, 3278, 3289, 3306, 3315, 3416, 3545, 3899, 3945, 4058, 4081, 4110, 4398, 4446, 4601, 4632, 4708, 4828, 5014, 5016, 5052, 5193, 5199, 5385, 5593, 5653, 5776, 5816, 5953, 6019, 6106, 6287, 6444, 6612, 6646, 6807, 6883, 6963, 6995, 7036, 7158, 7183, 7241, 7342, 7570, 7795, 7802, 7985, 8025, 8480, 8555, 8558, 8739, 8907, 8908, 8916, 8993, 9000, 9071, 9419, 9474, 9601, 9642, 9727, 9788, 9789, 9959]\n",
      "Ikke kaos: [14, 15, 132, 185, 271, 282, 346, 347, 618, 640, 717, 1055, 1116, 1123, 1256, 1291, 1459, 1564, 1573, 1637, 1682, 1688, 1767, 1802, 1910, 1996, 2239, 2536, 2763, 2781, 2897, 2911, 3137, 3236, 3278, 3289, 3306, 3315, 3416, 3545, 3899, 3945, 4058, 4081, 4110, 4398, 4446, 4601, 4632, 4708, 4828, 5014, 5016, 5052, 5193, 5199, 5385, 5593, 5653, 5776, 5816, 5953, 6019, 6106, 6287, 6444, 6612, 6646, 6807, 6883, 6963, 6995, 7036, 7158, 7183, 7241, 7342, 7570, 7795, 7802, 7985, 8025, 8480, 8555, 8558, 8739, 8907, 8908, 8916, 8993, 9000, 9071, 9419, 9474, 9601, 9642, 9727, 9788, 9789, 9959]\n"
     ]
    }
   ],
   "source": [
    "print(f\"Kaos: {some_random_numbers}\")\n",
    "print(f\"Ikke kaos: {sorted(some_random_numbers)}\")"
   ]
  },
  {
   "cell_type": "markdown",
   "metadata": {},
   "source": [
    "**NB!** `sorted` endrer ikke listen, men `.sort()` gjør"
   ]
  },
  {
   "cell_type": "code",
   "execution_count": 10,
   "metadata": {},
   "outputs": [
    {
     "name": "stdout",
     "output_type": "stream",
     "text": [
      "Fortsatt kaos: [7342, 1123, 5653, 347, 8907, 2763, 8480, 1802, 7158, 6807, 4601, 9789, 6646, 8558, 7241, 1564, 1637, 7985, 5016, 640, 1688, 8916, 5953, 6995, 271, 2781, 1767, 4110, 346, 3289, 9000, 6444, 2911, 3545, 9071, 1682, 9642, 2239, 8908, 8025, 185, 8993, 5776, 4398, 1055, 9727, 3236, 4058, 1910, 4446, 6106, 9601, 1459, 9959, 1256, 3945, 7036, 5193, 6963, 717, 618, 4708, 6287, 8739, 6019, 282, 8555, 2897, 3416, 7570, 1116, 4828, 3306, 5385, 5014, 1996, 1573, 5052, 9474, 15, 7795, 7183, 7802, 3315, 4632, 3899, 9419, 132, 6612, 14, 9788, 6883, 3137, 5199, 2536, 5593, 5816, 3278, 1291, 4081]\n",
      "Ikke kaos (?): [14, 15, 132, 185, 271, 282, 346, 347, 618, 640, 717, 1055, 1116, 1123, 1256, 1291, 1459, 1564, 1573, 1637, 1682, 1688, 1767, 1802, 1910, 1996, 2239, 2536, 2763, 2781, 2897, 2911, 3137, 3236, 3278, 3289, 3306, 3315, 3416, 3545, 3899, 3945, 4058, 4081, 4110, 4398, 4446, 4601, 4632, 4708, 4828, 5014, 5016, 5052, 5193, 5199, 5385, 5593, 5653, 5776, 5816, 5953, 6019, 6106, 6287, 6444, 6612, 6646, 6807, 6883, 6963, 6995, 7036, 7158, 7183, 7241, 7342, 7570, 7795, 7802, 7985, 8025, 8480, 8555, 8558, 8739, 8907, 8908, 8916, 8993, 9000, 9071, 9419, 9474, 9601, 9642, 9727, 9788, 9789, 9959]\n"
     ]
    }
   ],
   "source": [
    "print(f\"Fortsatt kaos: {some_random_numbers}\")\n",
    "some_random_numbers.sort()\n",
    "print(f\"Ikke kaos (?): {some_random_numbers}\")"
   ]
  },
  {
   "cell_type": "markdown",
   "metadata": {},
   "source": [
    "### set/list\n",
    "\n",
    "Lager et nytt set/ny liste av det du gir inn. Benytt sammen med `range` for kule greier"
   ]
  },
  {
   "cell_type": "code",
   "execution_count": 11,
   "metadata": {},
   "outputs": [
    {
     "name": "stdout",
     "output_type": "stream",
     "text": [
      "[1, 2, 3, 4, 5, 6, 7, 8, 9, 10]\n",
      "{1, 2, 3, 4, 5, 6, 7, 8, 9, 10}\n"
     ]
    }
   ],
   "source": [
    "liste_med_tall = list(range(1, 11))\n",
    "set_med_tall = set(range(1, 11))\n",
    "print(liste_med_tall)\n",
    "print(set_med_tall)"
   ]
  },
  {
   "cell_type": "markdown",
   "metadata": {},
   "source": [
    "### `+=`/`-=`/`/=`/`*=`/`%=`\n",
    "\n",
    "Kort for f. eks. `tall = tall + 2` $\\rightarrow$ `tall += 2`"
   ]
  },
  {
   "cell_type": "code",
   "execution_count": 13,
   "metadata": {},
   "outputs": [],
   "source": [
    "tall = 5\n",
    "tall += 3\n",
    "tall -= 3\n",
    "tall *= 2\n",
    "tall /= 2\n",
    "tall %= 5"
   ]
  },
  {
   "cell_type": "markdown",
   "metadata": {},
   "source": [
    "### .join(strenger)\n",
    "\n",
    "Sett sammen en liste strenger"
   ]
  },
  {
   "cell_type": "code",
   "execution_count": 12,
   "metadata": {},
   "outputs": [
    {
     "name": "stdout",
     "output_type": "stream",
     "text": [
      "Dette er strenger som skal settes sammen!\n",
      "Dette, er, strenger, som, skal, settes, sammen!\n"
     ]
    }
   ],
   "source": [
    "liste_med_strenger = [\"Dette\", \"er\", \"strenger\", \"som\", \"skal\", \"settes\", \"sammen!\"]\n",
    "print(\" \".join(liste_med_strenger))\n",
    "print(\", \".join(liste_med_strenger))"
   ]
  }
 ],
 "metadata": {
  "interpreter": {
   "hash": "9b22e2f4d263cc3315d940bacd486823353d02ef13dfaaa948a0e271d1d315fc"
  },
  "kernelspec": {
   "display_name": "Python 3.8.10 64-bit ('venv': venv)",
   "language": "python",
   "name": "python3"
  },
  "language_info": {
   "codemirror_mode": {
    "name": "ipython",
    "version": 3
   },
   "file_extension": ".py",
   "mimetype": "text/x-python",
   "name": "python",
   "nbconvert_exporter": "python",
   "pygments_lexer": "ipython3",
   "version": "3.9.1"
  },
  "orig_nbformat": 4
 },
 "nbformat": 4,
 "nbformat_minor": 2
}

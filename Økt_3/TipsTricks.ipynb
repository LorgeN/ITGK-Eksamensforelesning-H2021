{
 "cells": [
  {
   "cell_type": "markdown",
   "metadata": {},
   "source": [
    "# Tips & Tricks\n",
    "\n",
    "### enumerate\n",
    "Dersom du vil iterere igjennom en liste, og samtidig ha element og index, kan du bruke enumerate"
   ]
  },
  {
   "cell_type": "code",
   "execution_count": null,
   "metadata": {},
   "outputs": [],
   "source": [
    "liste = [\"Katt\", \"Hund\", \"Hamster\", \"Papegøye\", \"Vaskebjørn\"]\n",
    "for index, element in enumerate(liste):\n",
    "    print(f\"{element} har index {index}\")"
   ]
  },
  {
   "cell_type": "markdown",
   "metadata": {},
   "source": [
    "### randint\n",
    "\n",
    "Generer et tilfeldig tall mellom `start` og `slutt` (**NB!** `slutt` er inkludert)."
   ]
  },
  {
   "cell_type": "code",
   "execution_count": null,
   "metadata": {},
   "outputs": [],
   "source": [
    "from random import randint\n",
    "\n",
    "print(f\"Et tilfeldig tall mellom 0 og 100: {randint(0, 100)}\")"
   ]
  },
  {
   "cell_type": "markdown",
   "metadata": {},
   "source": [
    "### zip\n",
    "\n",
    "Iterer gjennom 2 lister samtidig."
   ]
  },
  {
   "cell_type": "code",
   "execution_count": null,
   "metadata": {},
   "outputs": [],
   "source": [
    "animals = [\"Katt\", \"Hund\", \"Hamster\", \"Papegøye\", \"Vaskebjørn\"]\n",
    "sounds = [\"Mjau\", \"Voff\", \"Pip\", \"Hei\", \"???\"]\n",
    "\n",
    "for i in range(len(animals)):\n",
    "    print(f\"{animals[i]} sier {sounds[i]}\")\n",
    "\n",
    "for animal, sound in zip(animals, sounds):\n",
    "    print(f\"{animal} sier {sound}\")"
   ]
  },
  {
   "cell_type": "markdown",
   "metadata": {},
   "source": [
    "### min/max\n",
    "\n",
    "Returnerer det minste/største elementet i en liste/set."
   ]
  },
  {
   "cell_type": "code",
   "execution_count": null,
   "metadata": {},
   "outputs": [],
   "source": [
    "from random import randint\n",
    "\n",
    "some_random_numbers = []\n",
    "for i in range(100):\n",
    "    some_random_numbers.append(randint(0, 10000))\n",
    "\n",
    "print(f\"Minste element: {min(some_random_numbers)}\")\n",
    "print(f\"Største element: {max(some_random_numbers)}\")"
   ]
  },
  {
   "cell_type": "markdown",
   "metadata": {},
   "source": [
    "### any\n",
    "\n",
    "Returnerer `True` om noe i listen er sant"
   ]
  },
  {
   "cell_type": "code",
   "execution_count": null,
   "metadata": {},
   "outputs": [],
   "source": [
    "min_boolske_liste = [False, False, False, True]\n",
    "\n",
    "print(f\"Er noe sant? {any(min_boolske_liste)}\")"
   ]
  },
  {
   "cell_type": "markdown",
   "metadata": {},
   "source": [
    "### all\n",
    "\n",
    "Returnerer `True` dersom alt i listen er sant"
   ]
  },
  {
   "cell_type": "code",
   "execution_count": null,
   "metadata": {},
   "outputs": [],
   "source": [
    "print(f\"Er alt sant? {all(min_boolske_liste)}\")"
   ]
  },
  {
   "cell_type": "markdown",
   "metadata": {},
   "source": [
    "### sorted\n",
    "\n",
    "Returnerer en sortert liste"
   ]
  },
  {
   "cell_type": "code",
   "execution_count": null,
   "metadata": {},
   "outputs": [],
   "source": [
    "print(f\"Kaos: {some_random_numbers}\")\n",
    "print(f\"Ikke kaos: {sorted(some_random_numbers)}\")"
   ]
  },
  {
   "cell_type": "markdown",
   "metadata": {},
   "source": [
    "**NB!** `sorted` endrer ikke listen, men `.sort()` gjør"
   ]
  },
  {
   "cell_type": "code",
   "execution_count": null,
   "metadata": {},
   "outputs": [],
   "source": [
    "print(f\"Fortsatt kaos: {some_random_numbers}\")\n",
    "some_random_numbers.sort()\n",
    "print(f\"Ikke kaos (?): {some_random_numbers}\")"
   ]
  },
  {
   "cell_type": "markdown",
   "metadata": {},
   "source": [
    "### set/list\n",
    "\n",
    "Lager et nytt set/ny liste av det du gir inn. Benytt sammen med `range` for kule greier"
   ]
  },
  {
   "cell_type": "code",
   "execution_count": 11,
   "metadata": {},
   "outputs": [
    {
     "name": "stdout",
     "output_type": "stream",
     "text": [
      "[1, 2, 3, 4, 5, 6, 7, 8, 9, 10]\n",
      "{1, 2, 3, 4, 5, 6, 7, 8, 9, 10}\n"
     ]
    }
   ],
   "source": [
    "liste_med_tall = list(range(1, 11))\n",
    "set_med_tall = set(range(1, 11))\n",
    "print(liste_med_tall)\n",
    "print(set_med_tall)"
   ]
  },
  {
   "cell_type": "markdown",
   "metadata": {},
   "source": [
    "### `+=`/`-=`/`/=`/`*=`/`%=`\n",
    "\n",
    "Kort for f. eks. `tall = tall + 2` $\\rightarrow$ `tall += 2`"
   ]
  },
  {
   "cell_type": "code",
   "execution_count": 13,
   "metadata": {},
   "outputs": [],
   "source": [
    "tall = 5\n",
    "tall += 3\n",
    "tall -= 3\n",
    "tall *= 2\n",
    "tall /= 2\n",
    "tall %= 5"
   ]
  },
  {
   "cell_type": "markdown",
   "metadata": {},
   "source": [
    "### .join(strenger)\n",
    "\n",
    "Sett sammen en liste strenger"
   ]
  },
  {
   "cell_type": "code",
   "execution_count": 14,
   "metadata": {},
   "outputs": [
    {
     "name": "stdout",
     "output_type": "stream",
     "text": [
      "Dette er strenger som skal settes sammen!\n",
      "Dette, er, strenger, som, skal, settes, sammen!\n"
     ]
    }
   ],
   "source": [
    "liste_med_strenger = [\"Dette\", \"er\", \"strenger\", \"som\", \"skal\", \"settes\", \"sammen!\"]\n",
    "print(\" \".join(liste_med_strenger))\n",
    "print(\", \".join(liste_med_strenger))"
   ]
  }
 ],
 "metadata": {
  "interpreter": {
   "hash": "9b22e2f4d263cc3315d940bacd486823353d02ef13dfaaa948a0e271d1d315fc"
  },
  "kernelspec": {
   "display_name": "Python 3.8.10 64-bit ('venv': venv)",
   "language": "python",
   "name": "python3"
  },
  "language_info": {
   "codemirror_mode": {
    "name": "ipython",
    "version": 3
   },
   "file_extension": ".py",
   "mimetype": "text/x-python",
   "name": "python",
   "nbconvert_exporter": "python",
   "pygments_lexer": "ipython3",
   "version": "3.8.10"
  },
  "orig_nbformat": 4
 },
 "nbformat": 4,
 "nbformat_minor": 2
}

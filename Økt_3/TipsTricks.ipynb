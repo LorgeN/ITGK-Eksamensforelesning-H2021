{
 "cells": [
  {
   "cell_type": "markdown",
   "metadata": {},
   "source": [
    "# Tips & Tricks\n",
    "\n",
    "### Enumerate\n",
    "Dersom du vil iterere igjennom en liste, og samtidig ha element og index, kan du bruke enumerate"
   ]
  },
  {
   "cell_type": "code",
   "execution_count": null,
   "metadata": {},
   "outputs": [],
   "source": [
    "liste = [\"Katt\", \"Hund\", \"Hamster\", \"Papegøye\", \"Vaskebjørn\"]\n",
    "for index, element in enumerate(liste):\n",
    "    print(f\"{element} har index {index}\")"
   ]
  },
  {
   "cell_type": "markdown",
   "metadata": {},
   "source": [
    "### Zip"
   ]
  }
 ],
 "metadata": {
  "language_info": {
   "name": "python"
  },
  "orig_nbformat": 4
 },
 "nbformat": 4,
 "nbformat_minor": 2
}

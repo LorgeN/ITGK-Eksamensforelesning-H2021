{
 "cells": [
  {
   "cell_type": "markdown",
   "metadata": {},
   "source": [
    "# 2D Lister\n",
    "\n",
    "**Ide:** Putt en liste i en liste :O\n",
    "\n",
    "**Eksempel:** Man er gitt værdata (\"sol\", \"overskyet\", \"regn\" + temperatur + vindhastighet) for n dager. Hvordan kan man representere dette i Python?\n",
    "\n",
    "La hver dag være representert av en liste som inneholder `værtype`, `temperatur` i celsius og `vindhastighet` i m/s, f. eks. `[\"sol\", 18, 1.5]`. Hvordan jobber vi da med denne dataen?"
   ]
  },
  {
   "cell_type": "code",
   "execution_count": null,
   "metadata": {},
   "outputs": [],
   "source": [
    "weather_some_random_day = [\"sol\", 18, 1.5]\n",
    "weather_type = weather_some_random_day[0]\n",
    "temperature = weather_some_random_day[1]\n",
    "wind_speed = weather_some_random_day[2]\n",
    "\n",
    "print(f\"(1) Type: {weather_type}, temperatur: {temperature}, vindhastighet: {wind_speed}\")\n",
    "\n",
    "# eller\n",
    "weather_type, temperature, wind_speed = weather_some_random_day\n",
    "print(f\"(2) Type: {weather_type}, temperatur: {temperature}, vindhastighet: {wind_speed}\")"
   ]
  },
  {
   "cell_type": "markdown",
   "metadata": {},
   "source": [
    "Nå har vi håndtert en dag. Hvordan kan vi da håndtere `n` dager?"
   ]
  },
  {
   "cell_type": "code",
   "execution_count": null,
   "metadata": {},
   "outputs": [],
   "source": [
    "weather_some_other_day = [\"regn\", 10, 5.3]\n",
    "weather_over_time = [weather_some_random_day, weather_some_other_day]\n",
    "print(weather_over_time)"
   ]
  },
  {
   "cell_type": "markdown",
   "metadata": {},
   "source": [
    "Ønsker å finne gjennomsnittstemperatur"
   ]
  },
  {
   "cell_type": "code",
   "execution_count": null,
   "metadata": {},
   "outputs": [],
   "source": [
    "def find_average_temp(weather_list):\n",
    "    total = 0\n",
    "    for weather_one_day in weather_list:\n",
    "        temp = weather_one_day[1]\n",
    "        total += temp\n",
    "    return total / len(weather_list) # len(weather_list) = antall dager\n",
    "\n",
    "print(f\"Gjennomsnitt: {find_average_temp(weather_over_time)}\")"
   ]
  },
  {
   "cell_type": "markdown",
   "metadata": {},
   "source": [
    "Det er gøy å spille discgolf en dag dersom\n",
    " - Det ikke regner\n",
    " - Temperaturen er over 10 grader\n",
    " - Vindhastigheten er under 3 m/s\n",
    "\n",
    "La oss lage en funksjon som tar inn værdata som presentert over og gir oss en liste over hvilke dager det er gøy å spille discgolf på!"
   ]
  },
  {
   "cell_type": "code",
   "execution_count": null,
   "metadata": {},
   "outputs": [],
   "source": [
    "# Lager en hjelpefunksjon som ser på en dag om gangen\n",
    "def is_fun_day(weather_type, temp, wind_speed):\n",
    "    if weather_type == \"regn\":\n",
    "        return False\n",
    "    elif temp <= 10: # Legg merke til at krav er OVER 10 grader\n",
    "        return False\n",
    "    else:\n",
    "        return wind_speed < 3.0\n",
    "\n",
    "def find_fun_days(weather_data):\n",
    "    result = []\n",
    "    for weather_type, temp, wind_speed in weather_data:\n",
    "        result.append(is_fun_day(weather_type, temp, wind_speed))\n",
    "    return result\n",
    "\n",
    "print(f\"Gode dager: {find_fun_days(weather_over_time)}\")"
   ]
  },
  {
   "cell_type": "markdown",
   "metadata": {},
   "source": [
    "Hva om vi ønsker å inkludere en grunn?"
   ]
  },
  {
   "cell_type": "code",
   "execution_count": null,
   "metadata": {},
   "outputs": [],
   "source": [
    "# Utvider hjelpefunksjonen\n",
    "def is_fun_day(weather_type, temp, wind_speed):\n",
    "    if weather_type == \"regn\":\n",
    "        return [False, \"Det regner!\"]\n",
    "    elif temp <= 10: # Legg merke til at krav er OVER 10 grader\n",
    "        return [False, \"Det er kaldt :(\"]\n",
    "    else:\n",
    "        return [wind_speed < 3.0, \"Blåser som bare det :/\"]\n",
    "\n",
    "print(f\"Gode dager: {find_fun_days(weather_over_time)}\")"
   ]
  },
  {
   "cell_type": "markdown",
   "metadata": {},
   "source": [
    "Men hva om det er flere?"
   ]
  },
  {
   "cell_type": "code",
   "execution_count": null,
   "metadata": {},
   "outputs": [],
   "source": []
  }
 ],
 "metadata": {
  "interpreter": {
   "hash": "9b22e2f4d263cc3315d940bacd486823353d02ef13dfaaa948a0e271d1d315fc"
  },
  "kernelspec": {
   "display_name": "Python 3.8.10 64-bit ('venv': venv)",
   "language": "python",
   "name": "python3"
  },
  "language_info": {
   "codemirror_mode": {
    "name": "ipython",
    "version": 3
   },
   "file_extension": ".py",
   "mimetype": "text/x-python",
   "name": "python",
   "nbconvert_exporter": "python",
   "pygments_lexer": "ipython3",
   "version": "3.8.10"
  },
  "orig_nbformat": 4
 },
 "nbformat": 4,
 "nbformat_minor": 2
}

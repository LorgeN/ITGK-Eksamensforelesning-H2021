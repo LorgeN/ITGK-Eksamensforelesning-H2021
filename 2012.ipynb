{
 "cells": [
  {
   "cell_type": "markdown",
   "metadata": {
    "heading_collapsed": true
   },
   "source": [
    "## Oppgave 1 - Teori (25%)"
   ]
  },
  {
   "cell_type": "markdown",
   "metadata": {
    "heading_collapsed": true
   },
   "source": [
    "## Oppgave 2 -  Grunnleggende programmering (20%)"
   ]
  },
  {
   "cell_type": "markdown",
   "metadata": {
    "hidden": true
   },
   "source": [
    "Du kan anta at alle fuksjonene mottar gyldige input-verdier."
   ]
  },
  {
   "cell_type": "markdown",
   "metadata": {
    "hidden": true
   },
   "source": [
    "### Oppgave 2 a) (5%)"
   ]
  },
  {
   "cell_type": "markdown",
   "metadata": {
    "hidden": true
   },
   "source": [
    "Lag funksjonen **summerOlympics** som har inn-parametere **firstYear** og **lastYear**. Funksjonen skal returnere variabelen **years**,som er ei list emed alle OL-årene fra og med **firstYear** til og med **lastYear** (inkludert framtidige planlagte år for sommer-OL). Fra og med OL i London i 1948,har sommer-OL vært arrangert hvert fjerde år. Du kan anta at **firstYear** ≥ 1948.\n",
    "\n",
    "Eksempel på kjøring av funksjonen og hva den returnerer:\n",
    "\n",
    "```python\n",
    ">>> years = summerOlympics(1999,2012)\n",
    ">>> years\n",
    "[2000, 2004, 2008, 2012]\n",
    "```"
   ]
  },
  {
   "cell_type": "code",
   "execution_count": null,
   "metadata": {
    "hidden": true
   },
   "outputs": [],
   "source": [
    "#skriv koden din her"
   ]
  },
  {
   "cell_type": "markdown",
   "metadata": {
    "hidden": true
   },
   "source": [
    "### Oppgave 2b) (7.5%)"
   ]
  },
  {
   "cell_type": "markdown",
   "metadata": {
    "hidden": true
   },
   "source": [
    "Lag funksjonen **`findAge`** som har inn-parametere **bYear**, **bMonth**, **bDay** som er tre heltall som beskriver dato for en fødselsdag. Funksjonen skal returnere **age** som beskriver hvor gammel en person med oppgitt fødselsdag (**bYear**, **bMonth** og **bDay**) er i dag angitt i hele år.\n",
    "\n",
    "For å finne år, måned og dag for i dag ***skal du bruke*** en eksisterende funksjon som heter `current_date()`.Funksjonen returnerer tre heltall på formatet **(yyyy,mm,dd)**. \n",
    "\n",
    "Eksempel på bruk av funksjonen **current_date**:  \n",
    "`(yyyy,mm,dd)= current_date()` gir i dag yyyy=2012,mm=12, dd=11.\n",
    "\n",
    "Eksempel på kjøring av funksjonen **`findAge`** og hva den returnerer:\n",
    "\n",
    "```python\n",
    ">>> age = findAge(2000,12,15)\n",
    ">>> age\n",
    "11\n",
    "```"
   ]
  },
  {
   "cell_type": "code",
   "execution_count": 21,
   "metadata": {
    "ExecuteTime": {
     "end_time": "2019-07-05T10:58:13.647340Z",
     "start_time": "2019-07-05T10:58:13.641077Z"
    },
    "hidden": true
   },
   "outputs": [],
   "source": [
    "from datetime import datetime\n",
    "def current_date():\n",
    "    yyyy = int(datetime.today().strftime('%Y'))\n",
    "    mm = int(datetime.today().strftime('%m'))\n",
    "    dd = int(datetime.today().strftime('%d'))\n",
    "    return yyyy,mm,dd"
   ]
  },
  {
   "cell_type": "code",
   "execution_count": null,
   "metadata": {
    "hidden": true
   },
   "outputs": [],
   "source": [
    "#skriv koden din her"
   ]
  },
  {
   "cell_type": "markdown",
   "metadata": {
    "hidden": true
   },
   "source": [
    "### Oppgave 2c) (7.5 %)"
   ]
  },
  {
   "cell_type": "markdown",
   "metadata": {
    "hidden": true
   },
   "source": [
    "Lag en funksjon **`printAgeDiff`** som tar en parameter **table**,som er en to-dimensjonal tabell (liste av lister) der hver rekke beskriver personer med fornavn, etternavn, fødselsår, fødselsmåned og fødselsdato. Funksjonen skal bruke funksjonen **`findAge`** fra oppgave 2b til å sammenlikne alderen i hele år på etterfølgende personer i tabellen (rekke for rekke) og gjøre følgende:\n",
    "\n",
    "* Hvis person n og person n+1 har samme alder angitt i antall hele år, skal følgende skrives ut til skjerm:  \n",
    "``<fornavnn> <etternavnn> is at the same age as <fornavnn+1> <etternavnn+1>``\n",
    "* Hvis person n er eldre enn person n+1 angitt i antall hele år, skal følgende skrives ut til skjerm:  \n",
    "``<fornavnn> <etternavnn> is older than <fornavnn+1> <etternavn n+1>``\n",
    "* Hvis person n er yngre enn person n+1 angitt i antall hele år, skal følgende skrives ut til skjerm:  \n",
    "``<fornavnn> <etternavnn> is younger than <fornavnn+1> <etternavnn+1>``\n",
    "\n",
    "Eksempel på en to-dimensjonal tabell som beskriver fire kjente personer:"
   ]
  },
  {
   "cell_type": "code",
   "execution_count": null,
   "metadata": {
    "hidden": true
   },
   "outputs": [],
   "source": [
    "table=[['Justin','Bieber',1994,3,1],\n",
    "       ['Donald','Duck',1934,8,1],\n",
    "       ['George','Clooney',1961,5,6],\n",
    "       ['Eddie','Murphy',1961,4,3]]"
   ]
  },
  {
   "cell_type": "markdown",
   "metadata": {
    "hidden": true
   },
   "source": [
    "Eksempel på kjøring av funksjonen **`printAgeDiff`** med tabellen **table**, som inneholder listene for bieber, donald, george og eddie:\n",
    "\n",
    "```python\n",
    ">>>printAgeDiff(table)\n",
    "Justin Bieber is younger than Donald Duck\n",
    "Donald Duck is older than George Clooney\n",
    "George Clooney is at the same age as Eddie Murphy\n",
    "```"
   ]
  },
  {
   "cell_type": "code",
   "execution_count": null,
   "metadata": {
    "hidden": true
   },
   "outputs": [],
   "source": [
    "#skriv koden din her"
   ]
  },
  {
   "cell_type": "markdown",
   "metadata": {
    "heading_collapsed": true
   },
   "source": [
    "## Oppgave 3 - Kodeforståelse (15%)"
   ]
  },
  {
   "cell_type": "markdown",
   "metadata": {
    "hidden": true
   },
   "source": [
    "### Oppgave 3a) (5%)"
   ]
  },
  {
   "cell_type": "markdown",
   "metadata": {
    "hidden": true
   },
   "source": [
    "Hva returneres hvis funksjonen `fu1(1234)`med kode som vist under kjøres?\n",
    "\n",
    "```python\n",
    "def fu1(a):\n",
    "    r = 0\n",
    "    while(a>0):\n",
    "        s = a%10\n",
    "        r = r + s\n",
    "        a = (a-s)/10\n",
    "return r\n",
    "```"
   ]
  },
  {
   "cell_type": "markdown",
   "metadata": {
    "hidden": true
   },
   "source": [
    "Svar: <dobbeltklikk for å svare>"
   ]
  },
  {
   "cell_type": "markdown",
   "metadata": {
    "hidden": true
   },
   "source": [
    "### Oppgave 3b) (5%)"
   ]
  },
  {
   "cell_type": "markdown",
   "metadata": {
    "hidden": true
   },
   "source": [
    "Hva blir verdiene til a,b,c og d etter kallet  \n",
    "`(a, b, c, d) = fu2(’Ut pa tur, aldri sur’)`  \n",
    "med koden som vist under?\n",
    "\n",
    "```python\n",
    "def fu2(input):\n",
    "    r = 0\n",
    "    s = 0\n",
    "    t = 0\n",
    "    u = 0\n",
    "    n = len(input)\n",
    "    for c in input:\n",
    "        if(c.isalpha()):\n",
    "            r = r + 1\n",
    "        elif(c.isdigit()):\n",
    "            s = s + 1\n",
    "        elif(c==' '):\n",
    "            t = t + 1\n",
    "        else:\n",
    "            u = u + 1\n",
    "    r = 100*r/n\n",
    "    s = 100*s/n\n",
    "    t = 100*t/n\n",
    "    u = 100*u/n\n",
    "    return(r,s,t,u)\n",
    "```"
   ]
  },
  {
   "cell_type": "markdown",
   "metadata": {
    "hidden": true
   },
   "source": [
    "Svar: <dobbeltklikk for å svare>"
   ]
  },
  {
   "cell_type": "markdown",
   "metadata": {
    "hidden": true
   },
   "source": [
    "### Oppgave 3c) (5%)"
   ]
  },
  {
   "cell_type": "markdown",
   "metadata": {
    "hidden": true
   },
   "source": [
    "Hva returneres av kallet `fu3(100)`med koden som vist under?\n",
    "```python\n",
    "def fu3(a):\n",
    "    if(a<=2):\n",
    "        r = 1\n",
    "    else:\n",
    "        r = 1 + fu3(a/2)\n",
    "    return r\n",
    "```"
   ]
  },
  {
   "cell_type": "markdown",
   "metadata": {
    "hidden": true
   },
   "source": [
    "Svar: <dobbeltklikk for å svare>"
   ]
  },
  {
   "cell_type": "markdown",
   "metadata": {},
   "source": [
    "## Oppgave 4 - Programmering (40%)"
   ]
  },
  {
   "cell_type": "markdown",
   "metadata": {},
   "source": [
    "Denne oppgaven fokuserer på behandling av data fra fire vær sensorer som måler en verdi per døgn av følgende data:\n",
    "\n",
    "* Temperatur: Angis som heltall i Celsius fra -50C til + 50C\n",
    "* Nedbør: Angis som heltall i mm nedbør per døgn fra 0 til 2000mm\n",
    "* Luftfuktighet. Angis som heltall fra 0 til 100%\n",
    "* Vindstyrke: Angis som heltall fra 0 til 50 meter per sekund\n",
    "\n",
    "Hvis ikke noe annet er oppgitt kan du anta korrekt input til funksjonene."
   ]
  },
  {
   "cell_type": "markdown",
   "metadata": {},
   "source": [
    "### Oppgave 4a) (5%)"
   ]
  },
  {
   "cell_type": "markdown",
   "metadata": {},
   "source": [
    "Lag en funksjon **`cold_days`** som tar imot parameteren **templist**, som en liste av temperaturer, og returnerer variabelen **days**,som angir antall døgn der temperaturen var under 0 grader.\n",
    "\n",
    "Eksempel på kall av funksjonen og hva den returnerer:\n",
    "```python\n",
    ">>> days = cold_days([1,-5,3,0,-6,-3,15,0])\n",
    ">>> days\n",
    "3\n",
    "```"
   ]
  },
  {
   "cell_type": "code",
   "execution_count": null,
   "metadata": {},
   "outputs": [],
   "source": [
    "#skriv koden din her"
   ]
  },
  {
   "cell_type": "markdown",
   "metadata": {},
   "source": [
    "### Oppgave 4 b) (5 %)"
   ]
  },
  {
   "cell_type": "markdown",
   "metadata": {},
   "source": [
    "Lag en funksjon **`cap_data`** som har inn-parameterne **array** (liste med data), **min_value** (minimumsverdi) og **max_value** (maksimumsverdi). Funksjonen skal returnere ei ny liste **result** der alle elementer i lista **array** som har verdi mindre enn **min_value** skal settes lik **min_value** og alle elementer i lista **array** som har verdi høyere enn **max_value** skal settes lik **max_value**.\n",
    "\n",
    "Eksempel på kall av funksjonen og hva den returnerer:\n",
    "```python\n",
    ">>>A=[-70,30,0,90,23,-12,95,12]\n",
    ">>>result = cap_data(A,-50,50)\n",
    ">>> result\n",
    "[-50,30,0,50,23,-12,50,12]\n",
    "```\n",
    "\n",
    "Legg merke til hvilke verdier som endres."
   ]
  },
  {
   "cell_type": "code",
   "execution_count": null,
   "metadata": {},
   "outputs": [],
   "source": [
    "#skriv koden din her"
   ]
  },
  {
   "cell_type": "markdown",
   "metadata": {},
   "source": [
    "### Oppgave 4c) (10%)"
   ]
  },
  {
   "cell_type": "markdown",
   "metadata": {},
   "source": [
    "Lag en funksjon **`generate_testdata`** som har inn-parameterne **N**, **min_value** (minimumsverdi)og **max_value** (maksimumsverdi). Funksjonen skal returnere tabellen **result** som består av **N** unike *tall* (heltall) som blir trukket tilfeldig der {**min_value** ≤ *tall* ≤ **max_value**}. Unik betyr her at ingen elementer i tabellen **result** skal ha samme verdi. Du kan anta at antall mulige verdier i intervallet tallet blir trukket fra alltid vil være større enn **N**.\n",
    "\n",
    "Eksempel på kall av funksjonen og hva den returnerer:\n",
    "```python\n",
    ">>> result = generate_testdata(10,-5,10)\n",
    ">>> result\n",
    "[-5,3,7,9,-3,4,2,0,-1,5]\n",
    "```"
   ]
  },
  {
   "cell_type": "code",
   "execution_count": null,
   "metadata": {},
   "outputs": [],
   "source": [
    "#skriv koden din her"
   ]
  },
  {
   "cell_type": "markdown",
   "metadata": {},
   "source": [
    "### Oppgave 4d) (5%)"
   ]
  },
  {
   "cell_type": "markdown",
   "metadata": {},
   "source": [
    "Lag en funksjon **`create_db`** som har inn-parameterne **temp**, **rain**, **humidity** og **wind**,som er fire tabeller av samme størrelse (likt antall elementer) med data for temperatur, nedbør, luftfuktighet og vind.\n",
    "\n",
    "Funksjonen skal lage og returnere *dictionarien* **weather**,der nøkkelen er ett heltall som starter med verdien 1 og teller oppover (representerer dagen for måling). Hvert innslag i *dictionarien* skal være en liste av verdier for temperatur, nedbør, luftfuktighet og vind. Verdiene for **weather** med nøkkel 1 skal inneholde værdata for dag 1, **weather** med nøkkel2 skal inneholde værdata for dag 2 og så videre.\n",
    "\n",
    "Eksempel på kall av funksjonen og hva den returnerer:\n",
    "```python\n",
    ">>> temp = [1,5,3]\n",
    ">>> rain = [0,30,120]\n",
    ">>> humidity = [30,50,65]\n",
    ">>> wind = [3,5,7]\n",
    ">>> weather = create_db(temp,rain,humidity,wind)\n",
    ">>> weather\n",
    "{1: [1, 0, 30, 3], 2: [5, 30, 50, 5], 3: [3, 120, 65, 7]}\n",
    "``` "
   ]
  },
  {
   "cell_type": "code",
   "execution_count": null,
   "metadata": {},
   "outputs": [],
   "source": [
    "#skriv koden din her"
   ]
  },
  {
   "cell_type": "markdown",
   "metadata": {},
   "source": [
    "### Oppgave 4e) (5%)"
   ]
  },
  {
   "cell_type": "markdown",
   "metadata": {},
   "source": [
    "Lag en funksjon **`print_db`** som har inn-parameteren **weather**,som er en dictionary som beskrevet i oppgave 4d. Funksjonen skal skrive ut innholdet i **weather** på skjerm etter følgende format og med overskrift som vist på utskriften nederst i deloppgaven:\n",
    "* Day(dag) –høyrejustert med 4 tegn\n",
    "* Temp (temperatur)–høyrejustert med 6 tegn\n",
    "* Rain (nedbør)–høyrejustert med 6 tegn\n",
    "* Humidity (luftfuktighet)–høyrejustert med 10 tegn\n",
    "* Wind (vind)–høyrejustert med 6 tegn\n",
    "\n",
    "Eksempel på kall av funksjonen ved bruk av dictionarien fra oppgave 4d:\n",
    "```python\n",
    ">>> print_db(weather)\n",
    "Day | Temp | rain | humidity | wind\n",
    "====+======+======+==========+======\n",
    "   1      1      0         30      5\n",
    "   2      5     30         50      3\n",
    "   3      3    120         65      7\n",
    "```"
   ]
  },
  {
   "cell_type": "code",
   "execution_count": null,
   "metadata": {},
   "outputs": [],
   "source": [
    "#skriv koden din her"
   ]
  },
  {
   "cell_type": "markdown",
   "metadata": {},
   "source": [
    "### Oppgave 4f) (10%)"
   ]
  },
  {
   "cell_type": "markdown",
   "metadata": {},
   "source": [
    "Lag funksjonen **`strange_weather`** som har inn-parameterne **temp** og **rain**,som er to tabeller med data for temperaturer og regn av lik størrelse (samme antall elementer). Funksjonen skal returnere **start** (startdag)og **stop** (sluttdag)for det lengste intervallet der det er minusgrader, samt at temperaturen faller samtidig som nedbørsmengden stiger i etterfølgende dager. Indekseringen av dager starter på 1. Hvis ingen etterfølgende dager har denne karakteristikken, returneres (0,0).\n",
    "\n",
    "Eksempel på kall av funksjonen(med intervall som oppfyller kravet uthevet):\n",
    "```python\n",
    ">>> temp=[1,3, 4,-5,-6,-7,-8,-9,3,0]\n",
    ">>> rain=[0,20,30,0,10,30,50,0,5,2]\n",
    ">>> (start, stop) = strange_weather(temp,rain)\n",
    ">>> start\n",
    "4\n",
    ">>> stop\n",
    "7\n",
    "```"
   ]
  },
  {
   "cell_type": "code",
   "execution_count": 22,
   "metadata": {
    "ExecuteTime": {
     "end_time": "2019-07-05T12:00:04.448245Z",
     "start_time": "2019-07-05T12:00:04.442468Z"
    }
   },
   "outputs": [],
   "source": [
    "#skriv koden din her"
   ]
  }
 ],
 "metadata": {
  "kernelspec": {
   "display_name": "Python 3",
   "language": "python",
   "name": "python3"
  },
  "language_info": {
   "codemirror_mode": {
    "name": "ipython",
    "version": 3
   },
   "file_extension": ".py",
   "mimetype": "text/x-python",
   "name": "python",
   "nbconvert_exporter": "python",
   "pygments_lexer": "ipython3",
   "version": "3.7.3"
  },
  "toc": {
   "base_numbering": 1,
   "nav_menu": {},
   "number_sections": false,
   "sideBar": true,
   "skip_h1_title": false,
   "title_cell": "Table of Contents",
   "title_sidebar": "Contents",
   "toc_cell": false,
   "toc_position": {},
   "toc_section_display": true,
   "toc_window_display": false
  }
 },
 "nbformat": 4,
 "nbformat_minor": 2
}

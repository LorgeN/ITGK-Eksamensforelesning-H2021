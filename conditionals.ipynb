{
 "cells": [
  {
   "cell_type": "markdown",
   "metadata": {},
   "source": [
    "# Kontrollstruktur\n",
    "## if-elif-else\n",
    "\n",
    "Hva om vi har kode som kun skal kjøres dersom en tilstand stemmer?\n",
    "\n",
    "**Eksempel:**\n",
    "Ta inn en streng og et tall fra bruker. Dersom strengen er lengre enn tallet gitt inn, skriv ut \"Lengre!\""
   ]
  },
  {
   "cell_type": "code",
   "execution_count": null,
   "metadata": {},
   "outputs": [],
   "source": [
    "streng = input(\"Skriv inn en streng: \")\n",
    "tall = int(input(\"Skriv inn et tall: \"))\n",
    "\n",
    "if len(streng) > tall:\n",
    "    print(\"Lengre!\")"
   ]
  },
  {
   "cell_type": "markdown",
   "metadata": {},
   "source": [
    "Hva om vi vil gi noe feedback når den ikke er lengre?"
   ]
  },
  {
   "cell_type": "code",
   "execution_count": null,
   "metadata": {},
   "outputs": [],
   "source": [
    "streng = input(\"Skriv inn en streng: \")\n",
    "tall = int(input(\"Skriv inn et tall: \"))\n",
    "\n",
    "if len(streng) > tall:\n",
    "    print(\"Lengre!\")\n",
    "else:\n",
    "    print(\"Kortere!\")"
   ]
  },
  {
   "cell_type": "markdown",
   "metadata": {},
   "source": [
    "Men hva om strengen er lik?"
   ]
  },
  {
   "cell_type": "code",
   "execution_count": null,
   "metadata": {},
   "outputs": [],
   "source": [
    "streng = input(\"Skriv inn en streng: \")\n",
    "tall = int(input(\"Skriv inn et tall: \"))\n",
    "\n",
    "if len(streng) > tall:\n",
    "    print(\"Lengre!\")\n",
    "elif len(streng) == tall:\n",
    "    print(\"Lik!\")\n",
    "else:\n",
    "    print(\"Kortere!\")"
   ]
  },
  {
   "cell_type": "markdown",
   "metadata": {},
   "source": [
    "## and/or\n",
    "\n",
    "Hva om vi ønsker å kombinere flere boolske uttrykk?"
   ]
  },
  {
   "cell_type": "code",
   "execution_count": null,
   "metadata": {},
   "outputs": [],
   "source": [
    "bool_1 = 3 > 5\n",
    "bool_2 = \"test\" == \"test\"\n",
    "\n",
    "bool_3 = bool_1 or bool_2\n",
    "bool_4 = bool_1 and bool_2"
   ]
  },
  {
   "cell_type": "markdown",
   "metadata": {},
   "source": [
    "Kan og gjøre dette rett i if-statements!"
   ]
  },
  {
   "cell_type": "code",
   "execution_count": null,
   "metadata": {},
   "outputs": [],
   "source": [
    "if 3 > 5 or \"test\" == \"test\":\n",
    "    print(\"Hello\")\n",
    "\n",
    "if 3 > 5 and \"test\" == \"test\":\n",
    "    print(\"Hello again\")"
   ]
  },
  {
   "cell_type": "markdown",
   "metadata": {},
   "source": [
    "Hva skjer i litt mer kompliserte tilfeller?"
   ]
  },
  {
   "cell_type": "code",
   "execution_count": 7,
   "metadata": {},
   "outputs": [
    {
     "name": "stdout",
     "output_type": "stream",
     "text": [
      "Again!\n",
      "What about now?\n"
     ]
    }
   ],
   "source": [
    "if False and True or True and True:\n",
    "    print(\"Again!\")\n",
    "\n",
    "if (False and True) or (True and True):\n",
    "    print(\"What about now?\")\n",
    "\n",
    "if False and (True or True) and True:\n",
    "    print(\"How about now?\")"
   ]
  }
 ],
 "metadata": {
  "interpreter": {
   "hash": "9b22e2f4d263cc3315d940bacd486823353d02ef13dfaaa948a0e271d1d315fc"
  },
  "kernelspec": {
   "display_name": "Python 3.8.10 64-bit ('venv': venv)",
   "language": "python",
   "name": "python3"
  },
  "language_info": {
   "codemirror_mode": {
    "name": "ipython",
    "version": 3
   },
   "file_extension": ".py",
   "mimetype": "text/x-python",
   "name": "python",
   "nbconvert_exporter": "python",
   "pygments_lexer": "ipython3",
   "version": "3.8.10"
  },
  "orig_nbformat": 4
 },
 "nbformat": 4,
 "nbformat_minor": 2
}

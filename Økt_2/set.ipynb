{
 "cells": [
  {
   "cell_type": "markdown",
   "metadata": {},
   "source": [
    "# Sets\n",
    "\n",
    "Sett er brukt for å ta vare på flere verdier i python, som en liste.\n",
    "\n",
    "Sett bruker samme paranteser som dictionaries { }\n",
    "\n",
    "Noen viktige egenskaper ved sett:\n",
    " - Unordered - rekkefølgen til elementene i sett har ingenting å si. Det betyr at du ikke kan vite i hvilken rekkefølge elementene vilkomme\n",
    " - Muterbarhet - I set kan du fjerne og legge til elementer, men ikke endre nåværende elementer\n",
    " - Unindexed - elementene i sett har ingen index\n",
    " - Duplicates - I sett kan man ikke ha flere like elementer. Det betyr at hvert element er *unikt*"
   ]
  },
  {
   "cell_type": "markdown",
   "metadata": {},
   "source": [
    "### Noen ekempler"
   ]
  },
  {
   "cell_type": "code",
   "execution_count": 1,
   "metadata": {},
   "outputs": [
    {
     "name": "stdout",
     "output_type": "stream",
     "text": [
      "{'epler', 'bananer', 'druer'}\n",
      "{'druer', 'epler', 'bananer'}\n"
     ]
    }
   ],
   "source": [
    "mitt_sett = {\"epler\", \"bananer\", \"druer\"}\n",
    "\n",
    "print(mitt_sett)\n",
    "\n",
    "mitt_sett_2 = {\"epler\", \"bananer\", \"druer\", \"epler\"}\n",
    "\n",
    "print(mitt_sett_2)"
   ]
  },
  {
   "cell_type": "markdown",
   "metadata": {},
   "source": [
    "## Iterere igjennom sett\n",
    "\n",
    "Dette skjer helt som du forventer"
   ]
  },
  {
   "cell_type": "code",
   "execution_count": 2,
   "metadata": {},
   "outputs": [
    {
     "name": "stdout",
     "output_type": "stream",
     "text": [
      "druer\n",
      "epler\n",
      "bananer\n"
     ]
    }
   ],
   "source": [
    "for element in mitt_sett_2:\n",
    "    print(element)"
   ]
  },
  {
   "cell_type": "markdown",
   "metadata": {},
   "source": [
    "**OBS**\n",
    "\n",
    "Siden man ikke kan indeksere sett, fungerer dette **ikke**:"
   ]
  },
  {
   "cell_type": "code",
   "execution_count": 3,
   "metadata": {},
   "outputs": [
    {
     "ename": "TypeError",
     "evalue": "'set' object is not subscriptable",
     "output_type": "error",
     "traceback": [
      "\u001b[1;31m---------------------------------------------------------------------------\u001b[0m",
      "\u001b[1;31mTypeError\u001b[0m                                 Traceback (most recent call last)",
      "\u001b[1;32mc:\\Users\\Vegard\\OneDrive - NTNU\\Documents\\Kodeprosjekt\\ITGK-Eksamensforelesning-H2021\\Økt_2\\set.ipynb Cell 7\u001b[0m line \u001b[0;36m2\n\u001b[0;32m      <a href='vscode-notebook-cell:/c%3A/Users/Vegard/OneDrive%20-%20NTNU/Documents/Kodeprosjekt/ITGK-Eksamensforelesning-H2021/%C3%98kt_2/set.ipynb#W6sZmlsZQ%3D%3D?line=0'>1</a>\u001b[0m \u001b[39mfor\u001b[39;00m i \u001b[39min\u001b[39;00m \u001b[39mrange\u001b[39m(\u001b[39mlen\u001b[39m(mitt_sett)):\n\u001b[1;32m----> <a href='vscode-notebook-cell:/c%3A/Users/Vegard/OneDrive%20-%20NTNU/Documents/Kodeprosjekt/ITGK-Eksamensforelesning-H2021/%C3%98kt_2/set.ipynb#W6sZmlsZQ%3D%3D?line=1'>2</a>\u001b[0m     \u001b[39mprint\u001b[39m(mitt_sett[i])\n",
      "\u001b[1;31mTypeError\u001b[0m: 'set' object is not subscriptable"
     ]
    }
   ],
   "source": [
    "for i in range(len(mitt_sett)):\n",
    "    print(mitt_sett[i])"
   ]
  },
  {
   "cell_type": "markdown",
   "metadata": {},
   "source": [
    "## Noen metoder:\n",
    " - add()\tAdds an element to the set\n",
    " - difference()\tReturns a set containing the difference between two or more sets\n",
    " - intersection()\tReturns a set, that is the intersection of two other sets\n",
    " - union()\tReturn a set containing the union of sets\n",
    "\n",
    "Vil dere gå igjennom disse?"
   ]
  },
  {
   "cell_type": "code",
   "execution_count": null,
   "metadata": {},
   "outputs": [],
   "source": []
  },
  {
   "cell_type": "markdown",
   "metadata": {},
   "source": [
    "### Et eksempel der det kan være lurt å bruke set\n",
    "\n",
    "Oppgave: Lag en funksjon som returnerer True dersom en liste ikke inneholder duplicates, False ellers"
   ]
  },
  {
   "cell_type": "code",
   "execution_count": 4,
   "metadata": {},
   "outputs": [
    {
     "name": "stdout",
     "output_type": "stream",
     "text": [
      "True\n",
      "False\n"
     ]
    }
   ],
   "source": [
    "def has_no_duplicates(list):\n",
    "    return len(list) == len(set(list))\n",
    "\n",
    "liste_1 = [1, 2, 3]\n",
    "liste_2 = [1, 2, 1]\n",
    "\n",
    "print(has_no_duplicates(liste_1))\n",
    "print(has_no_duplicates(liste_2))\n"
   ]
  }
 ],
 "metadata": {
  "interpreter": {
   "hash": "970ce3132f224d7747ed0f4b20681d591dc99902d3fdba431508a555c8f3dd02"
  },
  "kernelspec": {
   "display_name": "Python 3.9.1 64-bit",
   "language": "python",
   "name": "python3"
  },
  "language_info": {
   "codemirror_mode": {
    "name": "ipython",
    "version": 3
   },
   "file_extension": ".py",
   "mimetype": "text/x-python",
   "name": "python",
   "nbconvert_exporter": "python",
   "pygments_lexer": "ipython3",
   "version": "3.11.1"
  },
  "orig_nbformat": 4
 },
 "nbformat": 4,
 "nbformat_minor": 2
}

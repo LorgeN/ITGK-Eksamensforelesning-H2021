{
 "cells": [
  {
   "cell_type": "markdown",
   "metadata": {},
   "source": [
    "# Strengemanipulasjon\n",
    "\n",
    "Det finner mange måter man kan manipulere strenger på.\n",
    "\n",
    "Før vi begynner, litt info om strenger:\n",
    "- strenger er ikke *muterbare*\n",
    "- for å endre en streng må man lage en ny innstans av strengen\n",
    "\n",
    "\n",
    "\n",
    "### Aksessering av strenger\n",
    "Man kan aksessere en bokstav i en streng på samme måte som man aksesserer et element i en liste"
   ]
  },
  {
   "cell_type": "code",
   "execution_count": null,
   "metadata": {},
   "outputs": [],
   "source": [
    "min_streng = \"Hade på badet din gamle sjokolade\"\n",
    "print(min_streng[0])\n",
    "print(min_streng[-1])"
   ]
  },
  {
   "cell_type": "markdown",
   "metadata": {},
   "source": [
    "Du kan også legge strenger i strengen din, og multiplisere på samme måte som i lister"
   ]
  },
  {
   "cell_type": "code",
   "execution_count": null,
   "metadata": {},
   "outputs": [],
   "source": [
    "def create_epic_username(name):\n",
    "    return \"xX_\" + name + \"69_Xx\"\n",
    "\n",
    "def create_even_more_epic_username(name, epic_grade):\n",
    "    return \"xX\" * epic_grade + \"_\" + name + \"420_\" + \"Xx\" * epic_grade\n",
    "\n",
    "username = \"BeastMaster\"\n",
    "epic_username = create_epic_username(username)\n",
    "even_more_epic_username = create_even_more_epic_username(username, 4)\n",
    "\n",
    "print(username)\n",
    "print(epic_username)\n",
    "print(even_more_epic_username)\n"
   ]
  },
  {
   "cell_type": "markdown",
   "metadata": {},
   "source": [
    "Som sagt, kan man ikke endre på strengen på samme måte som en liste"
   ]
  },
  {
   "cell_type": "code",
   "execution_count": null,
   "metadata": {},
   "outputs": [],
   "source": [
    "sannhet = \"Vegard > Lorgen\"\n",
    "sannhet[7] = \"<\""
   ]
  },
  {
   "cell_type": "markdown",
   "metadata": {},
   "source": [
    "## Slicing av strenger\n",
    "\n",
    "Dersom man vil ha mer enn en bokstav i streng, kan man bruke slicing, som man definerer ved flate paranteser [ ]\n",
    "Slicing har 3 parameter, som man skiller med kolon ( : )\n",
    " - parameter 1: Start (Denne er **fra og med**)\n",
    " - parameter 2: Slutt (Denne er **til og ikke med**)\n",
    " - parameter 3: steglengde\n",
    "\n",
    "Som dere ser, er dette akuratt det samme som i *range()*-funksjonen"
   ]
  },
  {
   "cell_type": "code",
   "execution_count": null,
   "metadata": {},
   "outputs": [],
   "source": [
    "tall_streng = \"0123456789\"\n",
    "print(tall_streng[0: 2])\n",
    "print(tall_streng[0: -1])\n",
    "print(tall_streng[-2: 10])\n",
    "print(tall_streng[0 : 4 : 2])\n",
    "\n",
    "# Slicing har default verdiene 0, len(streng) og 1\n",
    "\n",
    "print(tall_streng[ : : ])\n",
    "print(tall_streng[2: :2])\n"
   ]
  },
  {
   "cell_type": "markdown",
   "metadata": {},
   "source": [
    "**OBS: Man kan også slice lister!**"
   ]
  },
  {
   "cell_type": "code",
   "execution_count": null,
   "metadata": {},
   "outputs": [],
   "source": [
    "liste_med_ting = [\"Albue\", \"Hode\", \"skuldre\", \"kne\", \"tå\", \"armkrok\"]\n",
    "sang_liste = liste_med_ting[1: -1]\n",
    "print(sang_liste)"
   ]
  },
  {
   "cell_type": "markdown",
   "metadata": {},
   "source": [
    "## Strengemetoder\n",
    "\n",
    "En av de tingene som kan spare dere mest tid på eksamen, er streng-metoder. Disse gjør en vanligvis tricky opppgave om til en superlett oppgave.\n",
    "\n",
    "Jeg vil først vise hvordan jeg ville gjort det uten metodene for å vise hvor nyttige metodene er\n",
    "\n",
    "Her kommer det noen eksempler om hvilke metoder som er *ekstra* nyttige:"
   ]
  },
  {
   "cell_type": "markdown",
   "metadata": {},
   "source": [
    "### .count()\n",
    "\n",
    "Dersom du har en streng, og lurer på hvor mange innstanser det er av en bokstav eller et ord i strengen, kan du bruke .count()"
   ]
  },
  {
   "cell_type": "code",
   "execution_count": null,
   "metadata": {},
   "outputs": [],
   "source": [
    "def count_instances_of_substring(string, substring):\n",
    "    count = 0\n",
    "    for i in range(len(string)- len(substring) + 1):\n",
    "        if string[i : i + len(substring)] == substring:\n",
    "            count += 1\n",
    "    return count\n",
    "\n",
    "test_streng = \"hei på deg, hvordan går det, heihei\"\n",
    "\n",
    "print(count_instances_of_substring(test_streng, \"hei\"))\n",
    "print(test_streng.count(\"hei\"))"
   ]
  },
  {
   "cell_type": "markdown",
   "metadata": {},
   "source": [
    "### .index()\n",
    "\n",
    "returnerer posisjonen til en substring i en string"
   ]
  },
  {
   "cell_type": "code",
   "execution_count": null,
   "metadata": {},
   "outputs": [],
   "source": [
    "def find_index_in_string(string, substring):\n",
    "    for i in range(len(string) - len(substring) + 1):\n",
    "        if string[i : i + len(substring)] == substring:\n",
    "            return i\n",
    "    # return None\n",
    "\n",
    "test_string = \"01234Hei89Hei\"\n",
    "\n",
    "print(find_index_in_string(test_string, \"Hei\"))\n",
    "print(test_string.index(\"Hei\"))"
   ]
  },
  {
   "cell_type": "markdown",
   "metadata": {},
   "source": [
    "### .upper() .lower()\n",
    "\n",
    "gjør om strengen til enten store eller små bokstaver. Kjekt å kunne om du skal sjekke om to strenger er like, men du ikke bryr det og store/små bokstaver"
   ]
  },
  {
   "cell_type": "code",
   "execution_count": null,
   "metadata": {},
   "outputs": [],
   "source": [
    "streng_1 = \"Hei\"\n",
    "streng_2 = \"hEi\"\n",
    "\n",
    "print(streng_1.upper())\n",
    "print(streng_2.lower())\n",
    "\n",
    "if streng_1.lower() == streng_2.lower():\n",
    "    print(\"Yes man!\")\n"
   ]
  },
  {
   "cell_type": "markdown",
   "metadata": {},
   "source": [
    "### .strip()\n",
    "\n",
    "fjerner alle mellomrom før og etter en streng"
   ]
  },
  {
   "cell_type": "code",
   "execution_count": null,
   "metadata": {},
   "outputs": [],
   "source": [
    "print(\"-----------------------------------------------------------\")\n",
    "mye_rom = \"\\n\\n\\n\\t\\t\\t ᕦ( ͡° ͜ʖ ͡°)ᕤ -(jeg har mye rom) \\t\\t\\t\\n\\n\\n\"\n",
    "print(mye_rom)\n",
    "print(\"-----------------------------------------------------------\")\n",
    "\n",
    "lite_rom = mye_rom.strip()\n",
    "print(lite_rom)\n",
    "print(\"-----------------------------------------------------------\")"
   ]
  },
  {
   "cell_type": "markdown",
   "metadata": {},
   "source": [
    "### .split()\n",
    "\n",
    "Gjør om en streng til en liste, der hvor strengen splittes ved et tegn\n",
    "\n",
    "**OBS OBS OBS** Dette må dere kunne når dere har oppgaver omhandlet filbehandling"
   ]
  },
  {
   "cell_type": "code",
   "execution_count": null,
   "metadata": {},
   "outputs": [],
   "source": [
    "def split_string(string, substring):\n",
    "    output_list = []\n",
    "    start = 0\n",
    "    for i in range(len(string) - len(substring) + 1):\n",
    "        if string[i : i + len(substring)] == substring:\n",
    "            output_list.append(string[start: i])\n",
    "            start = i + len(substring)\n",
    "    output_list.append(string[start:])\n",
    "    return(output_list)\n",
    "\n",
    "lista_streng = \"Halla;kompis;Godt;å;se;deg\"\n",
    "\n",
    "print(split_string(lista_streng, \";\"))\n",
    "print(lista_streng.split(\";\"))"
   ]
  },
  {
   "cell_type": "markdown",
   "metadata": {},
   "source": [
    "### OBS OBS OBS\n",
    "\n",
    "Alle disse metodene lager en ny innstans av strenger, og endrer ikke den opprinnelige strengen"
   ]
  },
  {
   "cell_type": "code",
   "execution_count": null,
   "metadata": {},
   "outputs": [],
   "source": [
    "vanlig_streng = \"Gratulerer med dagen, kjære barnebarn. Klem fra bestemor og bestefar\"\n",
    "vanlig_streng.upper()\n",
    "print(vanlig_streng)\n",
    "\n",
    "# Det man må gjøre:\n",
    "boomer_på_facebook_streng = vanlig_streng.upper()\n",
    "print(boomer_på_facebook_streng)"
   ]
  }
 ],
 "metadata": {
  "interpreter": {
   "hash": "970ce3132f224d7747ed0f4b20681d591dc99902d3fdba431508a555c8f3dd02"
  },
  "kernelspec": {
   "display_name": "Python 3.9.1 64-bit",
   "language": "python",
   "name": "python3"
  },
  "language_info": {
   "codemirror_mode": {
    "name": "ipython",
    "version": 3
   },
   "file_extension": ".py",
   "mimetype": "text/x-python",
   "name": "python",
   "nbconvert_exporter": "python",
   "pygments_lexer": "ipython3",
   "version": "3.11.1"
  },
  "orig_nbformat": 4
 },
 "nbformat": 4,
 "nbformat_minor": 2
}

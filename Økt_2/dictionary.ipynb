{
 "cells": [
  {
   "cell_type": "markdown",
   "metadata": {},
   "source": [
    "# Dictionaries\n",
    "\n",
    "Dictionaries er som lister, men i stedet for å bruke tall som index, bruker man egendefinerte nøkler som index"
   ]
  },
  {
   "cell_type": "code",
   "execution_count": null,
   "metadata": {},
   "outputs": [],
   "source": [
    " min_dictionary = {\n",
    "     \"Pølse\": \"Wurst\",\n",
    "     \"Sommerfugl\": \"Schmetterling\"\n",
    "    }\n",
    "\n",
    "print(min_dictionary)\n",
    "print(min_dictionary[\"Sommerfugl\"])\n",
    "\n",
    "# Her er Pølse en \"key\", mens \"Wurst\" er den tilsvarende \"value\""
   ]
  },
  {
   "cell_type": "markdown",
   "metadata": {},
   "source": [
    "For å legge inn et nytt nøkkel, verdi par, skriver man det på denne måten:\n",
    "\n",
    "dictionary[nøkkel] = verdi"
   ]
  },
  {
   "cell_type": "code",
   "execution_count": null,
   "metadata": {},
   "outputs": [],
   "source": [
    "min_dictionary[\"Speider\"] = \"Pfadfindern\"\n",
    "\n",
    "print(min_dictionary)"
   ]
  },
  {
   "cell_type": "markdown",
   "metadata": {},
   "source": [
    "I dictionaries i python, kan man kun ha én unik nøkkel. Det betyr at dersom du prøver å opprette et nytt nøkkel-verdi par, kommer du til å fjerne/oppdatere det gamle"
   ]
  },
  {
   "cell_type": "code",
   "execution_count": null,
   "metadata": {},
   "outputs": [],
   "source": [
    "min_dictionary[\"Pølse\"] = \"Bratwurst\"\n",
    "\n",
    "print(min_dictionary)"
   ]
  },
  {
   "cell_type": "markdown",
   "metadata": {},
   "source": [
    "## Verdier i dictionaries\n",
    "\n",
    "Verdiene som tilhører nøkler, kan ha alle mulige verdier. Dette inkluderer også lister og dictionaries :O"
   ]
  },
  {
   "cell_type": "code",
   "execution_count": null,
   "metadata": {},
   "outputs": [],
   "source": [
    "dictonary_med_mye_rart_i = {\n",
    "    \"string\": \"jeg er en string lol\",\n",
    "    \"tall\": 42,\n",
    "    \"boolean\": True,\n",
    "    \"liste\" : [1, 2, 3],\n",
    "    \"dictionary\": {\"Wow\": \"Dette var kult\"}\n",
    "}\n",
    "\n",
    "print(dictonary_med_mye_rart_i[\"dictionary\"])\n"
   ]
  },
  {
   "cell_type": "code",
   "execution_count": null,
   "metadata": {},
   "outputs": [],
   "source": [
    "print(dictonary_med_mye_rart_i[\"dictionary\"][\"Wow\"])"
   ]
  },
  {
   "cell_type": "markdown",
   "metadata": {},
   "source": [
    "## Iterere igjennom dictionary\n",
    "\n",
    "Det er mange måter å iterere igjennom dictionaries på, her skal vi gå igjennom de viktigste"
   ]
  },
  {
   "cell_type": "code",
   "execution_count": null,
   "metadata": {},
   "outputs": [],
   "source": [
    "dictionary = {\n",
    "    \"Merke\": \"Ford\",\n",
    "    \"Type\": \"Mustang\",\n",
    "    \"Årstall\": 2000,\n",
    "    \"Vært_på_reperasjon\": True,\n",
    "    \"Eiere\": [\"Vegard\", \"Lorgen\", \"Bill Gates\"]\n",
    "}"
   ]
  },
  {
   "cell_type": "markdown",
   "metadata": {},
   "source": [
    "### \"Vanlig måte\""
   ]
  },
  {
   "cell_type": "code",
   "execution_count": null,
   "metadata": {},
   "outputs": [],
   "source": [
    "for key in dictionary:\n",
    "    print(key)"
   ]
  },
  {
   "cell_type": "code",
   "execution_count": null,
   "metadata": {},
   "outputs": [],
   "source": [
    "for key in dictionary:\n",
    "    print(f\"Nøkkel: {key}, verdi: {dictionary[key]}\")"
   ]
  },
  {
   "cell_type": "markdown",
   "metadata": {},
   "source": [
    "### .items()-måten"
   ]
  },
  {
   "cell_type": "code",
   "execution_count": null,
   "metadata": {},
   "outputs": [],
   "source": [
    "for key, value in dictionary.items():\n",
    "    print(f\"Nøkkel: {key}, verdi: {value}\")"
   ]
  },
  {
   "cell_type": "markdown",
   "metadata": {},
   "source": [
    "### .values()\n",
    "\n",
    "Dersom du kun vil se verdiene, kan du bruke .values()"
   ]
  },
  {
   "cell_type": "code",
   "execution_count": null,
   "metadata": {},
   "outputs": [],
   "source": [
    "for value in dictionary.values():\n",
    "    print(f\"verdi: {value}\")"
   ]
  },
  {
   "cell_type": "markdown",
   "metadata": {},
   "source": [
    "## Et eksempel der det kan være lurt å bruke en dictionary\n",
    "\n",
    "Lag en .upper()-funksjon med navn til_store_bokstaver(streng), som returnerer en streng med store bokstaver uten å bruke noen innebygde metoder for strenger\n",
    "For enkelhets skyld består alfabetet kun av bokstavene a, b, c, d og e\n",
    "\n",
    "eksempel:\n",
    "\n",
    "*til_store_boksaver(\"123abba!!!\") -> \"123ABBA!!!!\"*"
   ]
  },
  {
   "cell_type": "code",
   "execution_count": null,
   "metadata": {},
   "outputs": [],
   "source": [
    "def til_store_bokstaver(streng):\n",
    "    små_til_store = {\"a\": \"A\", \"b\": \"B\", \"c\": \"C\", \"d\" : \"D\", \"e\": \"E\"}\n",
    "    \n",
    "    output_ord = \"\"\n",
    "    for letter in streng:\n",
    "        if letter in små_til_store.keys():\n",
    "            output_ord += små_til_store[letter]\n",
    "        else:\n",
    "            output_ord += letter\n",
    "    return output_ord"
   ]
  },
  {
   "cell_type": "code",
   "execution_count": null,
   "metadata": {},
   "outputs": [],
   "source": [
    "print(til_store_bokstaver(\"???abacUS!!!\"))"
   ]
  }
 ],
 "metadata": {
  "interpreter": {
   "hash": "970ce3132f224d7747ed0f4b20681d591dc99902d3fdba431508a555c8f3dd02"
  },
  "kernelspec": {
   "display_name": "Python 3.9.1 64-bit",
   "language": "python",
   "name": "python3"
  },
  "language_info": {
   "codemirror_mode": {
    "name": "ipython",
    "version": 3
   },
   "file_extension": ".py",
   "mimetype": "text/x-python",
   "name": "python",
   "nbconvert_exporter": "python",
   "pygments_lexer": "ipython3",
   "version": "3.9.1"
  },
  "orig_nbformat": 4
 },
 "nbformat": 4,
 "nbformat_minor": 2
}

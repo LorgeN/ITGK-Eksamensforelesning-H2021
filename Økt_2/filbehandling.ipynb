{
 "cells": [
  {
   "cell_type": "markdown",
   "metadata": {},
   "source": [
    "# Filbehandling\n",
    "\n",
    "Filbehandlig er en sentral del av pensum i ITGK\n",
    "\n",
    "For å åpne en fil i python, bruker du open() funksjonen\n",
    "\n",
    "open() tar inn 2 parameter, filnavn og modus\n",
    "\n",
    "Det er 4 forskjellige moduser:\n",
    " - \"r\" - Dette er for å lese fila\n",
    " - \"w\" - Dette er for å overskrive fila\n",
    " - \"a\" - Dette er for å legge til i fila\n",
    " - \"x\" - dette er for å lage en ny fil. Returnerer error dersom fila allerede eksisterer (Dere kan for det meste se bort i fra denne)"
   ]
  },
  {
   "cell_type": "code",
   "execution_count": 1,
   "metadata": {},
   "outputs": [],
   "source": [
    "# skrive til fil\n",
    "def write_to_file(filename, text):\n",
    "    file = open(filename, \"w\")\n",
    "    file.write(text)\n",
    "    file.close()\n",
    "\n",
    "write_to_file(\"test.txt\", \"Bli med i interessegruppa AbaDisc!\")"
   ]
  },
  {
   "cell_type": "code",
   "execution_count": 2,
   "metadata": {},
   "outputs": [
    {
     "name": "stdout",
     "output_type": "stream",
     "text": [
      "Bli med i interessegruppa AbaDisc!\n"
     ]
    }
   ],
   "source": [
    "def read_from_file(filename):\n",
    "    file = open(filename, \"r\")\n",
    "    print(file.read())\n",
    "    file.close()\n",
    "\n",
    "read_from_file(\"test.txt\")"
   ]
  },
  {
   "cell_type": "code",
   "execution_count": 3,
   "metadata": {},
   "outputs": [],
   "source": [
    "def add_to_file(filename, text):\n",
    "    file = open(filename, \"a\")\n",
    "    file.write(text)\n",
    "    file.close()\n",
    "\n",
    "add_to_file(\"test.txt\", \"Det er en skikkelig kul interessegruppe for de som liker, eller vil prøve, discgolf\")"
   ]
  },
  {
   "cell_type": "code",
   "execution_count": null,
   "metadata": {},
   "outputs": [],
   "source": [
    "read_from_file()"
   ]
  },
  {
   "cell_type": "markdown",
   "metadata": {},
   "source": [
    "# Live-kodeeksempel\n",
    "\n",
    "Se på filen \"stackoverflow.txt\".\n",
    "\n",
    "Fila inneholder en oversikt over alle transaksjoner en person har gjort i kiosken, og er skrevet på måten:\n",
    "\n",
    "Person : pris1, pris2, ..., prisN ; vare1, vare2, ..., vareN ; antall1, antall2, ..., antallN\n",
    "\n",
    "Dette skal du skrive ut:\n",
    "\n",
    "Person har kjøpt antall1 vare1 for pris1 kr, antall2 vare2 for pris2 kr og har handlet for x kr til sammen\n",
    "\n",
    "Eksempel:\n",
    "\n",
    "Anne Borg har kjøpt 4 kinder maxi for 24 kr, 12 drikkebuljong for 60 kr, 1 krus for 12 kr og har handlet for til sammen 96 kr"
   ]
  },
  {
   "cell_type": "code",
   "execution_count": 7,
   "metadata": {},
   "outputs": [
    {
     "name": "stdout",
     "output_type": "stream",
     "text": [
      "{' Pasta': [15.0, 1], ' Kinder maxi': [30.0, 5], ' Cocio': [20.0, 1], ' Lasagne ': [25.0, 1]}\n",
      "Vegard  har kjøpt 1  Pasta for 15.0 kr, 5  Kinder maxi for 30.0 kr, 1  Cocio for 20.0 kr, 1  Lasagne  for 25.0 kr, og har handlet for til sammen 90.0 kr\n",
      "{' Kopp ': [12.0, 1]}\n",
      "Lorgen  har kjøpt 1  Kopp  for 12.0 kr, og har handlet for til sammen 12.0 kr\n"
     ]
    }
   ],
   "source": [
    "file = open(\"stackoverflow.txt\", \"r\")\n",
    "for line in file.readlines():\n",
    "    name_and_rest = line.split(\":\")\n",
    "    name = name_and_rest[0]\n",
    "    rest = name_and_rest[1]\n",
    "    price_and_item_and_number = rest.split(\";\")\n",
    "    price = price_and_item_and_number[0]\n",
    "    item = price_and_item_and_number[1]\n",
    "    number = price_and_item_and_number[2]\n",
    "    price = price.split(\",\")\n",
    "    item = item.split(\",\")\n",
    "    number = number.split(\",\")\n",
    "    item_dict = {}\n",
    "    for i in range(len(item)):\n",
    "        if item[i] not in item_dict.keys():\n",
    "            item_dict[item[i]] = [0 , 0]\n",
    "        item_dict[item[i]][0] += float(price[i])\n",
    "        item_dict[item[i]][1] += int(number[i])\n",
    "    print(item_dict)\n",
    "    output_string = f\"{name} har kjøpt \"\n",
    "    summen = 0\n",
    "    for key, value in item_dict.items():\n",
    "        output_string += f\"{value[1]} {key} for {value[0]} kr, \"\n",
    "        summen += value[0]\n",
    "    print(output_string + f\"og har handlet for til sammen {summen} kr\")\n"
   ]
  },
  {
   "cell_type": "code",
   "execution_count": 11,
   "metadata": {},
   "outputs": [
    {
     "name": "stdout",
     "output_type": "stream",
     "text": [
      "[(' Pasta', ' 15', ' 1'), (' Kinder maxi', ' 12', ' 2'), (' Kinder maxi', ' 18', ' 3'), (' Cocio', ' 20', ' 1'), (' Lasagne ', ' 25 ', ' 1\\n')]\n",
      "{' Pasta': [15.0, 1], ' Kinder maxi': [30.0, 5], ' Cocio': [20.0, 1], ' Lasagne ': [25.0, 1]}\n",
      "Vegard  har kjøpt 1  Pasta for 15.0 kr, 5  Kinder maxi for 30.0 kr, 1  Cocio for 20.0 kr, 1  Lasagne  for 25.0 kr, og har handlet for til sammen 90.0 kr\n",
      "[(' Kopp ', ' 12 ', ' 1')]\n",
      "{' Kopp ': [12.0, 1]}\n",
      "Lorgen  har kjøpt 1  Kopp  for 12.0 kr, og har handlet for til sammen 12.0 kr\n"
     ]
    }
   ],
   "source": [
    "file = open(\"stackoverflow.txt\", \"r\")\n",
    "for line in file.readlines():\n",
    "    name, rest = line.split(\":\")\n",
    "    prices, items, numbers = rest.split(\";\")\n",
    "    prices = prices.split(\",\")\n",
    "    items = items.split(\",\")\n",
    "    numbers = numbers.split(\",\")\n",
    "    \n",
    "    item_dict = {}\n",
    "\n",
    "    for item, price, number in zip(items, prices, numbers):\n",
    "        if item not in item_dict:\n",
    "            item_dict[item] = [0 , 0]\n",
    "        item_dict[item][0] += float(price)\n",
    "        item_dict[item][1] += int(number)\n",
    "\n",
    "    output_string = f\"{name} har kjøpt \"\n",
    "    \n",
    "    summen = 0\n",
    "    for key, value in item_dict.items():\n",
    "        output_string += f\"{value[1]} {key} for {value[0]} kr, \"\n",
    "        summen += value[0]\n",
    "    \n",
    "    print(output_string + f\"og har handlet for til sammen {summen} kr\")\n"
   ]
  }
 ],
 "metadata": {
  "interpreter": {
   "hash": "970ce3132f224d7747ed0f4b20681d591dc99902d3fdba431508a555c8f3dd02"
  },
  "kernelspec": {
   "display_name": "Python 3.9.1 64-bit",
   "language": "python",
   "name": "python3"
  },
  "language_info": {
   "codemirror_mode": {
    "name": "ipython",
    "version": 3
   },
   "file_extension": ".py",
   "mimetype": "text/x-python",
   "name": "python",
   "nbconvert_exporter": "python",
   "pygments_lexer": "ipython3",
   "version": "3.9.1"
  },
  "orig_nbformat": 4
 },
 "nbformat": 4,
 "nbformat_minor": 2
}

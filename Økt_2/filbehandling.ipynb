{
 "cells": [
  {
   "cell_type": "markdown",
   "metadata": {},
   "source": [
    "# Filbehandling\n",
    "\n",
    "Filbehandlig er en sentral del av pensum i ITGK\n",
    "\n",
    "For å åpne en fil i python, bruker du open() funksjonen\n",
    "\n",
    "open() tar inn 2 parameter, filnavn og modus\n",
    "\n",
    "Det er 4 forskjellige moduser:\n",
    " - \"r\" - Dette er for å lese fila\n",
    " - \"w\" - Dette er for å overskrive fila\n",
    " - \"a\" - Dette er for å legge til i fila\n",
    " - \"x\" - dette er for å lage en ny fil. Returnerer error dersom fila allerede eksisterer (Dere kan for det meste se bort i fra denne)"
   ]
  },
  {
   "cell_type": "code",
   "execution_count": null,
   "metadata": {},
   "outputs": [],
   "source": [
    "# skrive til fil\n",
    "def write_to_file(filename, text):\n",
    "    file = open(filename, \"w\")\n",
    "    file.write(text)\n",
    "    file.close()\n",
    "\n",
    "write_to_file(\"test.txt\", \"Bli med i interessegruppa AbaDisc!\")"
   ]
  },
  {
   "cell_type": "code",
   "execution_count": null,
   "metadata": {},
   "outputs": [],
   "source": [
    "def read_from_file(filename):\n",
    "    file = open(filename, \"r\")\n",
    "    print(file.read())\n",
    "    file.close()\n",
    "\n",
    "read_from_file(\"test.txt\")"
   ]
  },
  {
   "cell_type": "code",
   "execution_count": null,
   "metadata": {},
   "outputs": [],
   "source": [
    "def add_to_file(filename, text):\n",
    "    file = open(filename, \"a\")\n",
    "    file.write(text)\n",
    "    file.close()\n",
    "\n",
    "add_to_file(\"test.txt\", \"Det er en skikkelig kul interessegruppe for de som liker, eller vil prøve, discgolf\")"
   ]
  },
  {
   "cell_type": "code",
   "execution_count": null,
   "metadata": {},
   "outputs": [],
   "source": [
    "read_from_file()"
   ]
  },
  {
   "cell_type": "markdown",
   "metadata": {},
   "source": [
    "# Live-kodeeksempel\n",
    "\n",
    "Se på filen \"stackoverflow.txt\".\n",
    "\n",
    "Fila inneholder en oversikt over alle transaksjoner en person har gjort i kiosken, og er skrevet på måten:\n",
    "\n",
    "Person : pris1, pris2, ..., prisN ; vare1, vare2, ..., vareN ; antall1, antall2, ..., antallN\n",
    "\n",
    "Dette skal du skrive ut:\n",
    "\n",
    "Person har kjøpt antall1 vare1 for pris1 kr, antall2 vare2 for pris2 kr og har handlet for x kr til sammen\n",
    "\n",
    "Eksempel:\n",
    "\n",
    "Anne Borg har kjøpt 4 kinder maxi for 24 kr, 12 drikkebuljong for 60 kr, 1 krus for 12 kr og har handlet for til sammen 96 kr"
   ]
  },
  {
   "cell_type": "code",
   "execution_count": null,
   "metadata": {},
   "outputs": [],
   "source": []
  }
 ],
 "metadata": {
  "interpreter": {
   "hash": "970ce3132f224d7747ed0f4b20681d591dc99902d3fdba431508a555c8f3dd02"
  },
  "kernelspec": {
   "display_name": "Python 3.9.1 64-bit",
   "language": "python",
   "name": "python3"
  },
  "language_info": {
   "codemirror_mode": {
    "name": "ipython",
    "version": 3
   },
   "file_extension": ".py",
   "mimetype": "text/x-python",
   "name": "python",
   "nbconvert_exporter": "python",
   "pygments_lexer": "ipython3",
   "version": "3.9.1"
  },
  "orig_nbformat": 4
 },
 "nbformat": 4,
 "nbformat_minor": 2
}
